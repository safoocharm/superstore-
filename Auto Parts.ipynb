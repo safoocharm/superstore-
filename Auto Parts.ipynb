{
 "cells": [
  {
   "cell_type": "markdown",
   "id": "d00aaf74",
   "metadata": {},
   "source": [
    "# OBJECTIVE\n",
    "1.what is the overall sales trend? 2.What are the top 10 category of products by sales? 3. Which is the most preferred ship mode? "
   ]
  },
  {
   "cell_type": "markdown",
   "id": "d6f6ce49",
   "metadata": {},
   "source": [
    "Importing libraries\n"
   ]
  },
  {
   "cell_type": "code",
   "execution_count": 8,
   "id": "bac1e30e",
   "metadata": {},
   "outputs": [],
   "source": [
    "import pandas as pd\n",
    "import numpy as np\n",
    "import matplotlib.pyplot as plt\n",
    "import seaborn as sns"
   ]
  },
  {
   "cell_type": "markdown",
   "id": "cbcaa812",
   "metadata": {},
   "source": [
    "Reading the CSV file"
   ]
  },
  {
   "cell_type": "code",
   "execution_count": 13,
   "id": "ba2b9f84",
   "metadata": {},
   "outputs": [],
   "source": [
    "df = pd.read_csv(\"E:/datset/AutoPartSalesNew.csv\")\n"
   ]
  },
  {
   "cell_type": "markdown",
   "id": "16f573ea",
   "metadata": {},
   "source": [
    "Initial Data exploration and Descriptive analysis"
   ]
  },
  {
   "cell_type": "code",
   "execution_count": 14,
   "id": "436810bd",
   "metadata": {},
   "outputs": [
    {
     "data": {
      "text/html": [
       "<div>\n",
       "<style scoped>\n",
       "    .dataframe tbody tr th:only-of-type {\n",
       "        vertical-align: middle;\n",
       "    }\n",
       "\n",
       "    .dataframe tbody tr th {\n",
       "        vertical-align: top;\n",
       "    }\n",
       "\n",
       "    .dataframe thead th {\n",
       "        text-align: right;\n",
       "    }\n",
       "</style>\n",
       "<table border=\"1\" class=\"dataframe\">\n",
       "  <thead>\n",
       "    <tr style=\"text-align: right;\">\n",
       "      <th></th>\n",
       "      <th>order_id</th>\n",
       "      <th>order_date</th>\n",
       "      <th>ship_mode</th>\n",
       "      <th>customer_name</th>\n",
       "      <th>segment</th>\n",
       "      <th>state</th>\n",
       "      <th>country</th>\n",
       "      <th>category</th>\n",
       "      <th>product_id</th>\n",
       "      <th>product_name</th>\n",
       "      <th>sales</th>\n",
       "      <th>quantity</th>\n",
       "      <th>discount</th>\n",
       "      <th>profit</th>\n",
       "      <th>shipping_cost</th>\n",
       "      <th>order_priority</th>\n",
       "      <th>year</th>\n",
       "    </tr>\n",
       "  </thead>\n",
       "  <tbody>\n",
       "    <tr>\n",
       "      <th>0</th>\n",
       "      <td>ID-2013-37383</td>\n",
       "      <td>2022-01-01 0:00</td>\n",
       "      <td>First Class</td>\n",
       "      <td>Muhammed Yedwab</td>\n",
       "      <td>Corporate</td>\n",
       "      <td>Ontario</td>\n",
       "      <td>Canada</td>\n",
       "      <td>wiper blades</td>\n",
       "      <td>TEC-CO-10002379</td>\n",
       "      <td>bosch Icon series 121</td>\n",
       "      <td>1649.214</td>\n",
       "      <td>7</td>\n",
       "      <td>0.1</td>\n",
       "      <td>36.624</td>\n",
       "      <td>178.71</td>\n",
       "      <td>Medium</td>\n",
       "      <td>2022</td>\n",
       "    </tr>\n",
       "    <tr>\n",
       "      <th>1</th>\n",
       "      <td>IN-2013-47960</td>\n",
       "      <td>2022-01-01 0:00</td>\n",
       "      <td>Standard Class</td>\n",
       "      <td>Joe Elijah</td>\n",
       "      <td>Consumer</td>\n",
       "      <td>Ontario</td>\n",
       "      <td>Canada</td>\n",
       "      <td>wiper blades</td>\n",
       "      <td>FUR-BO-10003549</td>\n",
       "      <td>bosch Icon series 122</td>\n",
       "      <td>1358.280</td>\n",
       "      <td>7</td>\n",
       "      <td>0.0</td>\n",
       "      <td>203.700</td>\n",
       "      <td>155.15</td>\n",
       "      <td>Medium</td>\n",
       "      <td>2022</td>\n",
       "    </tr>\n",
       "    <tr>\n",
       "      <th>2</th>\n",
       "      <td>ID-2013-37383</td>\n",
       "      <td>2022-01-01 0:00</td>\n",
       "      <td>First Class</td>\n",
       "      <td>Muhammed Yedwab</td>\n",
       "      <td>Corporate</td>\n",
       "      <td>Ontario</td>\n",
       "      <td>Canada</td>\n",
       "      <td>wiper blades</td>\n",
       "      <td>TEC-AC-10001500</td>\n",
       "      <td>bosch Icon series 123</td>\n",
       "      <td>728.568</td>\n",
       "      <td>8</td>\n",
       "      <td>0.1</td>\n",
       "      <td>-32.472</td>\n",
       "      <td>143.97</td>\n",
       "      <td>Medium</td>\n",
       "      <td>2022</td>\n",
       "    </tr>\n",
       "    <tr>\n",
       "      <th>3</th>\n",
       "      <td>IN-2013-47960</td>\n",
       "      <td>2022-01-01 0:00</td>\n",
       "      <td>Standard Class</td>\n",
       "      <td>Joe Elijah</td>\n",
       "      <td>Consumer</td>\n",
       "      <td>Ontario</td>\n",
       "      <td>Canada</td>\n",
       "      <td>wiper blades</td>\n",
       "      <td>FUR-BO-10004541</td>\n",
       "      <td>bosch Icon series 124</td>\n",
       "      <td>2189.520</td>\n",
       "      <td>6</td>\n",
       "      <td>0.0</td>\n",
       "      <td>372.060</td>\n",
       "      <td>102.05</td>\n",
       "      <td>Medium</td>\n",
       "      <td>2022</td>\n",
       "    </tr>\n",
       "    <tr>\n",
       "      <th>4</th>\n",
       "      <td>IN-2013-47960</td>\n",
       "      <td>2022-01-01 0:00</td>\n",
       "      <td>Standard Class</td>\n",
       "      <td>Joe Elijah</td>\n",
       "      <td>Consumer</td>\n",
       "      <td>Ontario</td>\n",
       "      <td>Canada</td>\n",
       "      <td>wiper blades</td>\n",
       "      <td>FUR-BO-10003661</td>\n",
       "      <td>bosch Icon series 125</td>\n",
       "      <td>1362.060</td>\n",
       "      <td>7</td>\n",
       "      <td>0.0</td>\n",
       "      <td>340.410</td>\n",
       "      <td>90.86</td>\n",
       "      <td>Medium</td>\n",
       "      <td>2022</td>\n",
       "    </tr>\n",
       "  </tbody>\n",
       "</table>\n",
       "</div>"
      ],
      "text/plain": [
       "        order_id       order_date       ship_mode    customer_name    segment  \\\n",
       "0  ID-2013-37383  2022-01-01 0:00     First Class  Muhammed Yedwab  Corporate   \n",
       "1  IN-2013-47960  2022-01-01 0:00  Standard Class       Joe Elijah   Consumer   \n",
       "2  ID-2013-37383  2022-01-01 0:00     First Class  Muhammed Yedwab  Corporate   \n",
       "3  IN-2013-47960  2022-01-01 0:00  Standard Class       Joe Elijah   Consumer   \n",
       "4  IN-2013-47960  2022-01-01 0:00  Standard Class       Joe Elijah   Consumer   \n",
       "\n",
       "     state country      category       product_id           product_name  \\\n",
       "0  Ontario  Canada  wiper blades  TEC-CO-10002379  bosch Icon series 121   \n",
       "1  Ontario  Canada  wiper blades  FUR-BO-10003549  bosch Icon series 122   \n",
       "2  Ontario  Canada  wiper blades  TEC-AC-10001500  bosch Icon series 123   \n",
       "3  Ontario  Canada  wiper blades  FUR-BO-10004541  bosch Icon series 124   \n",
       "4  Ontario  Canada  wiper blades  FUR-BO-10003661  bosch Icon series 125   \n",
       "\n",
       "      sales  quantity  discount   profit  shipping_cost order_priority  year  \n",
       "0  1649.214         7       0.1   36.624         178.71         Medium  2022  \n",
       "1  1358.280         7       0.0  203.700         155.15         Medium  2022  \n",
       "2   728.568         8       0.1  -32.472         143.97         Medium  2022  \n",
       "3  2189.520         6       0.0  372.060         102.05         Medium  2022  \n",
       "4  1362.060         7       0.0  340.410          90.86         Medium  2022  "
      ]
     },
     "execution_count": 14,
     "metadata": {},
     "output_type": "execute_result"
    }
   ],
   "source": [
    "df.head()"
   ]
  },
  {
   "cell_type": "code",
   "execution_count": 15,
   "id": "e2a6dff3",
   "metadata": {},
   "outputs": [
    {
     "data": {
      "text/plain": [
       "(13799, 17)"
      ]
     },
     "execution_count": 15,
     "metadata": {},
     "output_type": "execute_result"
    }
   ],
   "source": [
    "df.shape"
   ]
  },
  {
   "cell_type": "code",
   "execution_count": 16,
   "id": "433fdd2c",
   "metadata": {},
   "outputs": [
    {
     "data": {
      "text/plain": [
       "Index(['order_id', 'order_date', 'ship_mode', 'customer_name', 'segment',\n",
       "       'state', 'country', 'category', 'product_id', 'product_name', 'sales',\n",
       "       'quantity', 'discount', 'profit', 'shipping_cost', 'order_priority',\n",
       "       'year'],\n",
       "      dtype='object')"
      ]
     },
     "execution_count": 16,
     "metadata": {},
     "output_type": "execute_result"
    }
   ],
   "source": [
    "df.columns"
   ]
  },
  {
   "cell_type": "code",
   "execution_count": 17,
   "id": "5836b9cd",
   "metadata": {},
   "outputs": [
    {
     "name": "stdout",
     "output_type": "stream",
     "text": [
      "<class 'pandas.core.frame.DataFrame'>\n",
      "RangeIndex: 13799 entries, 0 to 13798\n",
      "Data columns (total 17 columns):\n",
      " #   Column          Non-Null Count  Dtype  \n",
      "---  ------          --------------  -----  \n",
      " 0   order_id        13799 non-null  object \n",
      " 1   order_date      13799 non-null  object \n",
      " 2   ship_mode       13799 non-null  object \n",
      " 3   customer_name   13799 non-null  object \n",
      " 4   segment         13799 non-null  object \n",
      " 5   state           13799 non-null  object \n",
      " 6   country         13799 non-null  object \n",
      " 7   category        13799 non-null  object \n",
      " 8   product_id      13799 non-null  object \n",
      " 9   product_name    13799 non-null  object \n",
      " 10  sales           13799 non-null  float64\n",
      " 11  quantity        13799 non-null  int64  \n",
      " 12  discount        13799 non-null  float64\n",
      " 13  profit          13799 non-null  float64\n",
      " 14  shipping_cost   13799 non-null  float64\n",
      " 15  order_priority  13799 non-null  object \n",
      " 16  year            13799 non-null  int64  \n",
      "dtypes: float64(4), int64(2), object(11)\n",
      "memory usage: 1.8+ MB\n"
     ]
    }
   ],
   "source": [
    "df.info()"
   ]
  },
  {
   "cell_type": "code",
   "execution_count": 18,
   "id": "8e24c0cb",
   "metadata": {},
   "outputs": [
    {
     "data": {
      "text/html": [
       "<div>\n",
       "<style scoped>\n",
       "    .dataframe tbody tr th:only-of-type {\n",
       "        vertical-align: middle;\n",
       "    }\n",
       "\n",
       "    .dataframe tbody tr th {\n",
       "        vertical-align: top;\n",
       "    }\n",
       "\n",
       "    .dataframe thead th {\n",
       "        text-align: right;\n",
       "    }\n",
       "</style>\n",
       "<table border=\"1\" class=\"dataframe\">\n",
       "  <thead>\n",
       "    <tr style=\"text-align: right;\">\n",
       "      <th></th>\n",
       "      <th>sales</th>\n",
       "      <th>quantity</th>\n",
       "      <th>discount</th>\n",
       "      <th>profit</th>\n",
       "      <th>shipping_cost</th>\n",
       "      <th>year</th>\n",
       "    </tr>\n",
       "  </thead>\n",
       "  <tbody>\n",
       "    <tr>\n",
       "      <th>count</th>\n",
       "      <td>13799.000000</td>\n",
       "      <td>13799.000000</td>\n",
       "      <td>13799.000000</td>\n",
       "      <td>13799.000000</td>\n",
       "      <td>13799.000000</td>\n",
       "      <td>13799.0</td>\n",
       "    </tr>\n",
       "    <tr>\n",
       "      <th>mean</th>\n",
       "      <td>246.811106</td>\n",
       "      <td>3.488369</td>\n",
       "      <td>0.140265</td>\n",
       "      <td>29.604519</td>\n",
       "      <td>26.418490</td>\n",
       "      <td>2022.0</td>\n",
       "    </tr>\n",
       "    <tr>\n",
       "      <th>std</th>\n",
       "      <td>494.719419</td>\n",
       "      <td>2.280165</td>\n",
       "      <td>0.210051</td>\n",
       "      <td>190.643662</td>\n",
       "      <td>57.082203</td>\n",
       "      <td>0.0</td>\n",
       "    </tr>\n",
       "    <tr>\n",
       "      <th>min</th>\n",
       "      <td>0.836000</td>\n",
       "      <td>1.000000</td>\n",
       "      <td>0.000000</td>\n",
       "      <td>-6599.978000</td>\n",
       "      <td>0.010000</td>\n",
       "      <td>2022.0</td>\n",
       "    </tr>\n",
       "    <tr>\n",
       "      <th>25%</th>\n",
       "      <td>30.816000</td>\n",
       "      <td>2.000000</td>\n",
       "      <td>0.000000</td>\n",
       "      <td>0.000000</td>\n",
       "      <td>2.620000</td>\n",
       "      <td>2022.0</td>\n",
       "    </tr>\n",
       "    <tr>\n",
       "      <th>50%</th>\n",
       "      <td>85.232000</td>\n",
       "      <td>3.000000</td>\n",
       "      <td>0.000000</td>\n",
       "      <td>9.240000</td>\n",
       "      <td>7.830000</td>\n",
       "      <td>2022.0</td>\n",
       "    </tr>\n",
       "    <tr>\n",
       "      <th>75%</th>\n",
       "      <td>249.720000</td>\n",
       "      <td>5.000000</td>\n",
       "      <td>0.200000</td>\n",
       "      <td>36.872000</td>\n",
       "      <td>24.964500</td>\n",
       "      <td>2022.0</td>\n",
       "    </tr>\n",
       "    <tr>\n",
       "      <th>max</th>\n",
       "      <td>17499.950000</td>\n",
       "      <td>14.000000</td>\n",
       "      <td>0.800000</td>\n",
       "      <td>8399.976000</td>\n",
       "      <td>923.630000</td>\n",
       "      <td>2022.0</td>\n",
       "    </tr>\n",
       "  </tbody>\n",
       "</table>\n",
       "</div>"
      ],
      "text/plain": [
       "              sales      quantity      discount        profit  shipping_cost  \\\n",
       "count  13799.000000  13799.000000  13799.000000  13799.000000   13799.000000   \n",
       "mean     246.811106      3.488369      0.140265     29.604519      26.418490   \n",
       "std      494.719419      2.280165      0.210051    190.643662      57.082203   \n",
       "min        0.836000      1.000000      0.000000  -6599.978000       0.010000   \n",
       "25%       30.816000      2.000000      0.000000      0.000000       2.620000   \n",
       "50%       85.232000      3.000000      0.000000      9.240000       7.830000   \n",
       "75%      249.720000      5.000000      0.200000     36.872000      24.964500   \n",
       "max    17499.950000     14.000000      0.800000   8399.976000     923.630000   \n",
       "\n",
       "          year  \n",
       "count  13799.0  \n",
       "mean    2022.0  \n",
       "std        0.0  \n",
       "min     2022.0  \n",
       "25%     2022.0  \n",
       "50%     2022.0  \n",
       "75%     2022.0  \n",
       "max     2022.0  "
      ]
     },
     "execution_count": 18,
     "metadata": {},
     "output_type": "execute_result"
    }
   ],
   "source": [
    "df.describe()"
   ]
  },
  {
   "cell_type": "markdown",
   "id": "9a3962ac",
   "metadata": {},
   "source": [
    "Checking for duplicates considering order_id as the primary key"
   ]
  },
  {
   "cell_type": "code",
   "execution_count": 22,
   "id": "fbd17518",
   "metadata": {},
   "outputs": [
    {
     "data": {
      "text/plain": [
       "0        False\n",
       "1        False\n",
       "2         True\n",
       "3         True\n",
       "4         True\n",
       "         ...  \n",
       "13794     True\n",
       "13795    False\n",
       "13796     True\n",
       "13797     True\n",
       "13798    False\n",
       "Length: 13799, dtype: bool"
      ]
     },
     "execution_count": 22,
     "metadata": {},
     "output_type": "execute_result"
    }
   ],
   "source": [
    "df.duplicated(subset = 'order_id')"
   ]
  },
  {
   "cell_type": "markdown",
   "id": "37c78325",
   "metadata": {},
   "source": [
    "Found duplicates and used top to bottom approach to treat duplicates"
   ]
  },
  {
   "cell_type": "code",
   "execution_count": 23,
   "id": "7c02a997",
   "metadata": {},
   "outputs": [],
   "source": [
    "df.drop_duplicates(subset = 'order_id',keep = 'first',inplace = True)"
   ]
  },
  {
   "cell_type": "code",
   "execution_count": 25,
   "id": "d65e49e3",
   "metadata": {},
   "outputs": [
    {
     "data": {
      "text/plain": [
       "(6721, 17)"
      ]
     },
     "execution_count": 25,
     "metadata": {},
     "output_type": "execute_result"
    }
   ],
   "source": [
    "df.shape"
   ]
  },
  {
   "cell_type": "markdown",
   "id": "86d738f6",
   "metadata": {},
   "source": [
    " remaining obervations after deletion of duplicates"
   ]
  },
  {
   "cell_type": "markdown",
   "id": "9f9bb6e5",
   "metadata": {},
   "source": [
    "Checking for null values"
   ]
  },
  {
   "cell_type": "code",
   "execution_count": 26,
   "id": "4b559e9f",
   "metadata": {},
   "outputs": [
    {
     "data": {
      "text/plain": [
       "order_id          False\n",
       "order_date        False\n",
       "ship_mode         False\n",
       "customer_name     False\n",
       "segment           False\n",
       "state             False\n",
       "country           False\n",
       "category          False\n",
       "product_id        False\n",
       "product_name      False\n",
       "sales             False\n",
       "quantity          False\n",
       "discount          False\n",
       "profit            False\n",
       "shipping_cost     False\n",
       "order_priority    False\n",
       "year              False\n",
       "dtype: bool"
      ]
     },
     "execution_count": 26,
     "metadata": {},
     "output_type": "execute_result"
    }
   ],
   "source": [
    "df.isnull().any()"
   ]
  },
  {
   "cell_type": "code",
   "execution_count": 27,
   "id": "00378379",
   "metadata": {},
   "outputs": [
    {
     "data": {
      "text/plain": [
       "order_id          0\n",
       "order_date        0\n",
       "ship_mode         0\n",
       "customer_name     0\n",
       "segment           0\n",
       "state             0\n",
       "country           0\n",
       "category          0\n",
       "product_id        0\n",
       "product_name      0\n",
       "sales             0\n",
       "quantity          0\n",
       "discount          0\n",
       "profit            0\n",
       "shipping_cost     0\n",
       "order_priority    0\n",
       "year              0\n",
       "dtype: int64"
      ]
     },
     "execution_count": 27,
     "metadata": {},
     "output_type": "execute_result"
    }
   ],
   "source": [
    "df.isnull().sum()"
   ]
  },
  {
   "cell_type": "markdown",
   "id": "22487f36",
   "metadata": {},
   "source": [
    "No null values found"
   ]
  },
  {
   "cell_type": "markdown",
   "id": "2a158900",
   "metadata": {},
   "source": [
    "# EXPLORATORY DATA ANALYSIS\n",
    "What is the overall sales trend?"
   ]
  },
  {
   "cell_type": "code",
   "execution_count": 29,
   "id": "0169778f",
   "metadata": {},
   "outputs": [
    {
     "data": {
      "text/plain": [
       "'2022-01-01 0:00'"
      ]
     },
     "execution_count": 29,
     "metadata": {},
     "output_type": "execute_result"
    }
   ],
   "source": [
    "df['order_date'].min()"
   ]
  },
  {
   "cell_type": "code",
   "execution_count": 30,
   "id": "efca526f",
   "metadata": {},
   "outputs": [
    {
     "data": {
      "text/plain": [
       "'2022-12-31 0:00'"
      ]
     },
     "execution_count": 30,
     "metadata": {},
     "output_type": "execute_result"
    }
   ],
   "source": [
    "df['order_date'].max()"
   ]
  },
  {
   "cell_type": "code",
   "execution_count": 33,
   "id": "530d4fca",
   "metadata": {},
   "outputs": [
    {
     "data": {
      "text/plain": [
       "str"
      ]
     },
     "execution_count": 33,
     "metadata": {},
     "output_type": "execute_result"
    }
   ],
   "source": [
    "type(df['order_date'][0])"
   ]
  },
  {
   "cell_type": "code",
   "execution_count": 34,
   "id": "0691133b",
   "metadata": {},
   "outputs": [],
   "source": [
    "from datetime import datetime"
   ]
  },
  {
   "cell_type": "code",
   "execution_count": 36,
   "id": "a1ff90ab",
   "metadata": {},
   "outputs": [
    {
     "data": {
      "text/plain": [
       "'01/01/2022'"
      ]
     },
     "execution_count": 36,
     "metadata": {},
     "output_type": "execute_result"
    }
   ],
   "source": [
    "datetime.strptime(df['order_date'][0], '%Y-%m-%d %H:%M').strftime('%m/%d/%Y')"
   ]
  },
  {
   "cell_type": "markdown",
   "id": "18dead0b",
   "metadata": {},
   "source": [
    "convert date str object to datetime object"
   ]
  },
  {
   "cell_type": "code",
   "execution_count": 37,
   "id": "8f4b49a1",
   "metadata": {},
   "outputs": [],
   "source": [
    "df['order_date'] = df['order_date'].apply(lambda x: datetime.strptime(x, '%Y-%m-%d %H:%M').strftime('%m/%d/%Y'))"
   ]
  },
  {
   "cell_type": "code",
   "execution_count": 38,
   "id": "a7c5afb0",
   "metadata": {},
   "outputs": [
    {
     "data": {
      "text/plain": [
       "str"
      ]
     },
     "execution_count": 38,
     "metadata": {},
     "output_type": "execute_result"
    }
   ],
   "source": [
    "type(df['order_date'][0])"
   ]
  },
  {
   "cell_type": "code",
   "execution_count": 40,
   "id": "97a8f2d2",
   "metadata": {},
   "outputs": [
    {
     "data": {
      "text/plain": [
       "'01/01/2022'"
      ]
     },
     "execution_count": 40,
     "metadata": {},
     "output_type": "execute_result"
    }
   ],
   "source": [
    "df['order_date'][0]"
   ]
  },
  {
   "cell_type": "code",
   "execution_count": 41,
   "id": "46a3ad45",
   "metadata": {},
   "outputs": [
    {
     "data": {
      "text/plain": [
       "'12/31/2022'"
      ]
     },
     "execution_count": 41,
     "metadata": {},
     "output_type": "execute_result"
    }
   ],
   "source": [
    "df['order_date'].max()"
   ]
  },
  {
   "cell_type": "markdown",
   "id": "16a5020b",
   "metadata": {},
   "source": [
    "creating a new column for month and year"
   ]
  },
  {
   "cell_type": "code",
   "execution_count": 45,
   "id": "a67a1f88",
   "metadata": {},
   "outputs": [],
   "source": [
    "df['month_year'] = df['order_date'].apply(lambda x: datetime.strptime(x, '%m/%d/%Y').strftime('%Y-%m'))"
   ]
  },
  {
   "cell_type": "code",
   "execution_count": 46,
   "id": "52aee028",
   "metadata": {},
   "outputs": [
    {
     "data": {
      "text/plain": [
       "0        2022-01\n",
       "1        2022-01\n",
       "5        2022-01\n",
       "6        2022-01\n",
       "7        2022-01\n",
       "          ...   \n",
       "13784    2022-12\n",
       "13790    2022-12\n",
       "13791    2022-12\n",
       "13795    2022-12\n",
       "13798    2022-12\n",
       "Name: month_year, Length: 6721, dtype: object"
      ]
     },
     "execution_count": 46,
     "metadata": {},
     "output_type": "execute_result"
    }
   ],
   "source": [
    "df['month_year']"
   ]
  },
  {
   "cell_type": "markdown",
   "id": "5a806649",
   "metadata": {},
   "source": [
    "grouping by month year to get the sales trends"
   ]
  },
  {
   "cell_type": "code",
   "execution_count": 52,
   "id": "907dc9fe",
   "metadata": {},
   "outputs": [],
   "source": [
    "df_trend = df.groupby('month_year').sum()['sales'].reset_index()"
   ]
  },
  {
   "cell_type": "code",
   "execution_count": 53,
   "id": "e658d9e0",
   "metadata": {},
   "outputs": [
    {
     "data": {
      "text/html": [
       "<div>\n",
       "<style scoped>\n",
       "    .dataframe tbody tr th:only-of-type {\n",
       "        vertical-align: middle;\n",
       "    }\n",
       "\n",
       "    .dataframe tbody tr th {\n",
       "        vertical-align: top;\n",
       "    }\n",
       "\n",
       "    .dataframe thead th {\n",
       "        text-align: right;\n",
       "    }\n",
       "</style>\n",
       "<table border=\"1\" class=\"dataframe\">\n",
       "  <thead>\n",
       "    <tr style=\"text-align: right;\">\n",
       "      <th></th>\n",
       "      <th>month_year</th>\n",
       "      <th>sales</th>\n",
       "    </tr>\n",
       "  </thead>\n",
       "  <tbody>\n",
       "    <tr>\n",
       "      <th>0</th>\n",
       "      <td>2022-01</td>\n",
       "      <td>154290.85594</td>\n",
       "    </tr>\n",
       "    <tr>\n",
       "      <th>1</th>\n",
       "      <td>2022-02</td>\n",
       "      <td>130483.27412</td>\n",
       "    </tr>\n",
       "    <tr>\n",
       "      <th>2</th>\n",
       "      <td>2022-03</td>\n",
       "      <td>155796.36694</td>\n",
       "    </tr>\n",
       "    <tr>\n",
       "      <th>3</th>\n",
       "      <td>2022-04</td>\n",
       "      <td>137510.01956</td>\n",
       "    </tr>\n",
       "    <tr>\n",
       "      <th>4</th>\n",
       "      <td>2022-05</td>\n",
       "      <td>195412.71292</td>\n",
       "    </tr>\n",
       "    <tr>\n",
       "      <th>5</th>\n",
       "      <td>2022-06</td>\n",
       "      <td>298638.66508</td>\n",
       "    </tr>\n",
       "    <tr>\n",
       "      <th>6</th>\n",
       "      <td>2022-07</td>\n",
       "      <td>167893.77284</td>\n",
       "    </tr>\n",
       "    <tr>\n",
       "      <th>7</th>\n",
       "      <td>2022-08</td>\n",
       "      <td>237115.38176</td>\n",
       "    </tr>\n",
       "    <tr>\n",
       "      <th>8</th>\n",
       "      <td>2022-09</td>\n",
       "      <td>272998.79280</td>\n",
       "    </tr>\n",
       "    <tr>\n",
       "      <th>9</th>\n",
       "      <td>2022-10</td>\n",
       "      <td>228186.41776</td>\n",
       "    </tr>\n",
       "    <tr>\n",
       "      <th>10</th>\n",
       "      <td>2022-11</td>\n",
       "      <td>274175.60712</td>\n",
       "    </tr>\n",
       "    <tr>\n",
       "      <th>11</th>\n",
       "      <td>2022-12</td>\n",
       "      <td>298423.26384</td>\n",
       "    </tr>\n",
       "  </tbody>\n",
       "</table>\n",
       "</div>"
      ],
      "text/plain": [
       "   month_year         sales\n",
       "0     2022-01  154290.85594\n",
       "1     2022-02  130483.27412\n",
       "2     2022-03  155796.36694\n",
       "3     2022-04  137510.01956\n",
       "4     2022-05  195412.71292\n",
       "5     2022-06  298638.66508\n",
       "6     2022-07  167893.77284\n",
       "7     2022-08  237115.38176\n",
       "8     2022-09  272998.79280\n",
       "9     2022-10  228186.41776\n",
       "10    2022-11  274175.60712\n",
       "11    2022-12  298423.26384"
      ]
     },
     "execution_count": 53,
     "metadata": {},
     "output_type": "execute_result"
    }
   ],
   "source": [
    "df_trend"
   ]
  },
  {
   "cell_type": "code",
   "execution_count": 58,
   "id": "83e6a34c",
   "metadata": {},
   "outputs": [
    {
     "data": {
      "image/png": "[encoded data removed]",
      "text/plain": [
       "<Figure size 1500x600 with 1 Axes>"
      ]
     },
     "metadata": {},
     "output_type": "display_data"
    }
   ],
   "source": [
    "# plotting\n",
    "plt.figure(figsize =(15,6))\n",
    "plt.plot(df_trend['month_year'],df_trend['sales'])\n",
    "plt.xticks(rotation = 'vertical',size = 8)\n",
    "plt.show()"
   ]
  },
  {
   "cell_type": "code",
   "execution_count": 59,
   "id": "71053d91",
   "metadata": {},
   "outputs": [],
   "source": [
    "# The sales are lower but sales are increasing very well"
   ]
  },
  {
   "cell_type": "markdown",
   "id": "a6bf4193",
   "metadata": {},
   "source": [
    "Which are the Top selling category of products by sales ?"
   ]
  },
  {
   "cell_type": "code",
   "execution_count": 61,
   "id": "0c3a0de7",
   "metadata": {},
   "outputs": [
    {
     "data": {
      "text/plain": [
       "Index(['order_id', 'order_date', 'ship_mode', 'customer_name', 'segment',\n",
       "       'state', 'country', 'category', 'product_id', 'product_name', 'sales',\n",
       "       'quantity', 'discount', 'profit', 'shipping_cost', 'order_priority',\n",
       "       'year', 'month_year'],\n",
       "      dtype='object')"
      ]
     },
     "execution_count": 61,
     "metadata": {},
     "output_type": "execute_result"
    }
   ],
   "source": [
    "df.columns"
   ]
  },
  {
   "cell_type": "code",
   "execution_count": 64,
   "id": "e8deb7de",
   "metadata": {},
   "outputs": [],
   "source": [
    "prod_sales = pd.DataFrame(df.groupby('category').sum()['sales'])"
   ]
  },
  {
   "cell_type": "code",
   "execution_count": 67,
   "id": "78c9932b",
   "metadata": {},
   "outputs": [
    {
     "data": {
      "text/html": [
       "<div>\n",
       "<style scoped>\n",
       "    .dataframe tbody tr th:only-of-type {\n",
       "        vertical-align: middle;\n",
       "    }\n",
       "\n",
       "    .dataframe tbody tr th {\n",
       "        vertical-align: top;\n",
       "    }\n",
       "\n",
       "    .dataframe thead th {\n",
       "        text-align: right;\n",
       "    }\n",
       "</style>\n",
       "<table border=\"1\" class=\"dataframe\">\n",
       "  <thead>\n",
       "    <tr style=\"text-align: right;\">\n",
       "      <th></th>\n",
       "      <th>sales</th>\n",
       "    </tr>\n",
       "    <tr>\n",
       "      <th>category</th>\n",
       "      <th></th>\n",
       "    </tr>\n",
       "  </thead>\n",
       "  <tbody>\n",
       "    <tr>\n",
       "      <th>A/C  and cooling</th>\n",
       "      <td>37208.64948</td>\n",
       "    </tr>\n",
       "    <tr>\n",
       "      <th>auto body parts</th>\n",
       "      <td>902346.36978</td>\n",
       "    </tr>\n",
       "    <tr>\n",
       "      <th>emission and exhaust</th>\n",
       "      <td>26175.29960</td>\n",
       "    </tr>\n",
       "    <tr>\n",
       "      <th>engine and ignition</th>\n",
       "      <td>57740.23864</td>\n",
       "    </tr>\n",
       "    <tr>\n",
       "      <th>fuel delivery</th>\n",
       "      <td>151904.18620</td>\n",
       "    </tr>\n",
       "    <tr>\n",
       "      <th>headlights bulb</th>\n",
       "      <td>18139.03880</td>\n",
       "    </tr>\n",
       "    <tr>\n",
       "      <th>heating engine</th>\n",
       "      <td>30844.85828</td>\n",
       "    </tr>\n",
       "    <tr>\n",
       "      <th>performance parts</th>\n",
       "      <td>124874.41678</td>\n",
       "    </tr>\n",
       "    <tr>\n",
       "      <th>starters and alternators</th>\n",
       "      <td>290962.65606</td>\n",
       "    </tr>\n",
       "    <tr>\n",
       "      <th>steering and alignment</th>\n",
       "      <td>7891.21710</td>\n",
       "    </tr>\n",
       "    <tr>\n",
       "      <th>suspension parts</th>\n",
       "      <td>616667.65566</td>\n",
       "    </tr>\n",
       "    <tr>\n",
       "      <th>transmission</th>\n",
       "      <td>179955.08516</td>\n",
       "    </tr>\n",
       "    <tr>\n",
       "      <th>wiper blades</th>\n",
       "      <td>106215.45914</td>\n",
       "    </tr>\n",
       "  </tbody>\n",
       "</table>\n",
       "</div>"
      ],
      "text/plain": [
       "                                 sales\n",
       "category                              \n",
       "A/C  and cooling           37208.64948\n",
       "auto body parts           902346.36978\n",
       "emission and exhaust       26175.29960\n",
       "engine and ignition        57740.23864\n",
       "fuel delivery             151904.18620\n",
       "headlights bulb            18139.03880\n",
       "heating engine             30844.85828\n",
       "performance parts         124874.41678\n",
       "starters and alternators  290962.65606\n",
       "steering and alignment      7891.21710\n",
       "suspension parts          616667.65566\n",
       "transmission              179955.08516\n",
       "wiper blades              106215.45914"
      ]
     },
     "execution_count": 67,
     "metadata": {},
     "output_type": "execute_result"
    }
   ],
   "source": [
    "prod_sales"
   ]
  },
  {
   "cell_type": "code",
   "execution_count": 68,
   "id": "b0dda684",
   "metadata": {},
   "outputs": [],
   "source": [
    "prod_sales =prod_sales.sort_values('sales',ascending = False)"
   ]
  },
  {
   "cell_type": "code",
   "execution_count": 70,
   "id": "9eb9e364",
   "metadata": {},
   "outputs": [],
   "source": [
    "# top 10 \n",
    "prod_10 = prod_sales.head(10)"
   ]
  },
  {
   "cell_type": "code",
   "execution_count": 71,
   "id": "f0263ee4",
   "metadata": {},
   "outputs": [
    {
     "data": {
      "text/html": [
       "<div>\n",
       "<style scoped>\n",
       "    .dataframe tbody tr th:only-of-type {\n",
       "        vertical-align: middle;\n",
       "    }\n",
       "\n",
       "    .dataframe tbody tr th {\n",
       "        vertical-align: top;\n",
       "    }\n",
       "\n",
       "    .dataframe thead th {\n",
       "        text-align: right;\n",
       "    }\n",
       "</style>\n",
       "<table border=\"1\" class=\"dataframe\">\n",
       "  <thead>\n",
       "    <tr style=\"text-align: right;\">\n",
       "      <th></th>\n",
       "      <th>sales</th>\n",
       "    </tr>\n",
       "    <tr>\n",
       "      <th>category</th>\n",
       "      <th></th>\n",
       "    </tr>\n",
       "  </thead>\n",
       "  <tbody>\n",
       "    <tr>\n",
       "      <th>auto body parts</th>\n",
       "      <td>902346.36978</td>\n",
       "    </tr>\n",
       "    <tr>\n",
       "      <th>suspension parts</th>\n",
       "      <td>616667.65566</td>\n",
       "    </tr>\n",
       "    <tr>\n",
       "      <th>starters and alternators</th>\n",
       "      <td>290962.65606</td>\n",
       "    </tr>\n",
       "    <tr>\n",
       "      <th>transmission</th>\n",
       "      <td>179955.08516</td>\n",
       "    </tr>\n",
       "    <tr>\n",
       "      <th>fuel delivery</th>\n",
       "      <td>151904.18620</td>\n",
       "    </tr>\n",
       "    <tr>\n",
       "      <th>performance parts</th>\n",
       "      <td>124874.41678</td>\n",
       "    </tr>\n",
       "    <tr>\n",
       "      <th>wiper blades</th>\n",
       "      <td>106215.45914</td>\n",
       "    </tr>\n",
       "    <tr>\n",
       "      <th>engine and ignition</th>\n",
       "      <td>57740.23864</td>\n",
       "    </tr>\n",
       "    <tr>\n",
       "      <th>A/C  and cooling</th>\n",
       "      <td>37208.64948</td>\n",
       "    </tr>\n",
       "    <tr>\n",
       "      <th>heating engine</th>\n",
       "      <td>30844.85828</td>\n",
       "    </tr>\n",
       "  </tbody>\n",
       "</table>\n",
       "</div>"
      ],
      "text/plain": [
       "                                 sales\n",
       "category                              \n",
       "auto body parts           902346.36978\n",
       "suspension parts          616667.65566\n",
       "starters and alternators  290962.65606\n",
       "transmission              179955.08516\n",
       "fuel delivery             151904.18620\n",
       "performance parts         124874.41678\n",
       "wiper blades              106215.45914\n",
       "engine and ignition        57740.23864\n",
       "A/C  and cooling           37208.64948\n",
       "heating engine             30844.85828"
      ]
     },
     "execution_count": 71,
     "metadata": {},
     "output_type": "execute_result"
    }
   ],
   "source": [
    "prod_10"
   ]
  },
  {
   "cell_type": "code",
   "execution_count": null,
   "id": "ac0a476b",
   "metadata": {},
   "outputs": [],
   "source": []
  },
  {
   "cell_type": "code",
   "execution_count": 75,
   "id": "2e7b29f1",
   "metadata": {},
   "outputs": [],
   "source": [
    "df_prod = df.groupby('category').sum()['sales'].reset_index()"
   ]
  },
  {
   "cell_type": "code",
   "execution_count": 79,
   "id": "f053678d",
   "metadata": {},
   "outputs": [],
   "source": [
    "df_prod = df_prod.sort_values('sales',ascending = False)"
   ]
  },
  {
   "cell_type": "code",
   "execution_count": 82,
   "id": "f3dc519b",
   "metadata": {},
   "outputs": [],
   "source": [
    "df_top10 = df_prod.head(10)"
   ]
  },
  {
   "cell_type": "code",
   "execution_count": 83,
   "id": "3359e299",
   "metadata": {},
   "outputs": [
    {
     "data": {
      "text/html": [
       "<div>\n",
       "<style scoped>\n",
       "    .dataframe tbody tr th:only-of-type {\n",
       "        vertical-align: middle;\n",
       "    }\n",
       "\n",
       "    .dataframe tbody tr th {\n",
       "        vertical-align: top;\n",
       "    }\n",
       "\n",
       "    .dataframe thead th {\n",
       "        text-align: right;\n",
       "    }\n",
       "</style>\n",
       "<table border=\"1\" class=\"dataframe\">\n",
       "  <thead>\n",
       "    <tr style=\"text-align: right;\">\n",
       "      <th></th>\n",
       "      <th>category</th>\n",
       "      <th>sales</th>\n",
       "    </tr>\n",
       "  </thead>\n",
       "  <tbody>\n",
       "    <tr>\n",
       "      <th>1</th>\n",
       "      <td>auto body parts</td>\n",
       "      <td>902346.36978</td>\n",
       "    </tr>\n",
       "    <tr>\n",
       "      <th>10</th>\n",
       "      <td>suspension parts</td>\n",
       "      <td>616667.65566</td>\n",
       "    </tr>\n",
       "    <tr>\n",
       "      <th>8</th>\n",
       "      <td>starters and alternators</td>\n",
       "      <td>290962.65606</td>\n",
       "    </tr>\n",
       "    <tr>\n",
       "      <th>11</th>\n",
       "      <td>transmission</td>\n",
       "      <td>179955.08516</td>\n",
       "    </tr>\n",
       "    <tr>\n",
       "      <th>4</th>\n",
       "      <td>fuel delivery</td>\n",
       "      <td>151904.18620</td>\n",
       "    </tr>\n",
       "    <tr>\n",
       "      <th>7</th>\n",
       "      <td>performance parts</td>\n",
       "      <td>124874.41678</td>\n",
       "    </tr>\n",
       "    <tr>\n",
       "      <th>12</th>\n",
       "      <td>wiper blades</td>\n",
       "      <td>106215.45914</td>\n",
       "    </tr>\n",
       "    <tr>\n",
       "      <th>3</th>\n",
       "      <td>engine and ignition</td>\n",
       "      <td>57740.23864</td>\n",
       "    </tr>\n",
       "    <tr>\n",
       "      <th>0</th>\n",
       "      <td>A/C  and cooling</td>\n",
       "      <td>37208.64948</td>\n",
       "    </tr>\n",
       "    <tr>\n",
       "      <th>6</th>\n",
       "      <td>heating engine</td>\n",
       "      <td>30844.85828</td>\n",
       "    </tr>\n",
       "  </tbody>\n",
       "</table>\n",
       "</div>"
      ],
      "text/plain": [
       "                    category         sales\n",
       "1            auto body parts  902346.36978\n",
       "10          suspension parts  616667.65566\n",
       "8   starters and alternators  290962.65606\n",
       "11              transmission  179955.08516\n",
       "4              fuel delivery  151904.18620\n",
       "7          performance parts  124874.41678\n",
       "12              wiper blades  106215.45914\n",
       "3        engine and ignition   57740.23864\n",
       "0           A/C  and cooling   37208.64948\n",
       "6             heating engine   30844.85828"
      ]
     },
     "execution_count": 83,
     "metadata": {},
     "output_type": "execute_result"
    }
   ],
   "source": [
    "df_top10"
   ]
  },
  {
   "cell_type": "code",
   "execution_count": 88,
   "id": "77666419",
   "metadata": {},
   "outputs": [
    {
     "data": {
      "image/png": "[encoded data removed]",
      "text/plain": [
       "<Figure size 640x480 with 1 Axes>"
      ]
     },
     "metadata": {},
     "output_type": "display_data"
    }
   ],
   "source": [
    "sns.barplot(x = 'category', y = 'sales',data = df_top10,palette = 'inferno')\n",
    "plt.xticks(rotation = 'vertical',size = 8)\n",
    "plt.show()"
   ]
  },
  {
   "cell_type": "markdown",
   "id": "a070224c",
   "metadata": {},
   "source": [
    "what is the most preferred ship mode?"
   ]
  },
  {
   "cell_type": "code",
   "execution_count": 89,
   "id": "6002868a",
   "metadata": {},
   "outputs": [
    {
     "data": {
      "image/png": "[encoded data removed]",
      "text/plain": [
       "<Figure size 1000x800 with 1 Axes>"
      ]
     },
     "metadata": {},
     "output_type": "display_data"
    }
   ],
   "source": [
    "plt.figure(figsize = (10,8))\n",
    "sns.countplot(x = 'ship_mode',data = df)\n",
    "plt.show()"
   ]
  },
  {
   "cell_type": "code",
   "execution_count": 95,
   "id": "acf4d1b0",
   "metadata": {},
   "outputs": [
    {
     "data": {
      "text/plain": [
       "<seaborn.axisgrid.JointGrid at 0x18582b42d30>"
      ]
     },
     "execution_count": 95,
     "metadata": {},
     "output_type": "execute_result"
    },
    {
     "data": {
      "image/png": "[encoded data removed]",
      "text/plain": [
       "<Figure size 600x600 with 3 Axes>"
      ]
     },
     "metadata": {},
     "output_type": "display_data"
    }
   ],
   "source": [
    "sns.jointplot(x ='sales',y = 'profit',data = df)"
   ]
  },
  {
   "cell_type": "markdown",
   "id": "b39068b9",
   "metadata": {},
   "source": [
    "Which are most sold categories?"
   ]
  },
  {
   "cell_type": "code",
   "execution_count": 104,
   "id": "a85006de",
   "metadata": {},
   "outputs": [
    {
     "data": {
      "text/plain": [
       "(array([ 0,  1,  2,  3,  4,  5,  6,  7,  8,  9, 10, 11, 12]),\n",
       " [Text(0, 0, 'wiper blades'),\n",
       "  Text(1, 0, 'headlights bulb'),\n",
       "  Text(2, 0, 'engine and ignition'),\n",
       "  Text(3, 0, 'heating engine'),\n",
       "  Text(4, 0, 'A/C  and cooling'),\n",
       "  Text(5, 0, 'performance parts'),\n",
       "  Text(6, 0, 'emission and exhaust'),\n",
       "  Text(7, 0, 'fuel delivery'),\n",
       "  Text(8, 0, 'starters and alternators'),\n",
       "  Text(9, 0, 'suspension parts'),\n",
       "  Text(10, 0, 'auto body parts'),\n",
       "  Text(11, 0, 'transmission'),\n",
       "  Text(12, 0, 'steering and alignment')])"
      ]
     },
     "execution_count": 104,
     "metadata": {},
     "output_type": "execute_result"
    },
    {
     "data": {
      "image/png": "[encoded data removed]",
      "text/plain": [
       "<Figure size 1500x800 with 1 Axes>"
      ]
     },
     "metadata": {},
     "output_type": "display_data"
    }
   ],
   "source": [
    "plt.figure(figsize = (15,8))\n",
    "sns.countplot(x = 'category',data = df)\n",
    "plt.xticks(rotation = 90)"
   ]
  },
  {
   "cell_type": "code",
   "execution_count": 108,
   "id": "fa50fa16",
   "metadata": {},
   "outputs": [
    {
     "data": {
      "text/plain": [
       "<AxesSubplot:xlabel='category', ylabel='profit'>"
      ]
     },
     "execution_count": 108,
     "metadata": {},
     "output_type": "execute_result"
    },
    {
     "data": {
      "image/png": "[encoded data removed]",
      "text/plain": [
       "<Figure size 2500x800 with 1 Axes>"
      ]
     },
     "metadata": {},
     "output_type": "display_data"
    }
   ],
   "source": [
    "plt.figure(figsize = (25,8))\n",
    "sns.boxplot( x = 'category', y = 'profit',data = df)"
   ]
  },
  {
   "cell_type": "code",
   "execution_count": null,
   "id": "557b5ba2",
   "metadata": {},
   "outputs": [],
   "source": []
  }
 ],
 "metadata": {
  "kernelspec": {
   "display_name": "Python 3 (ipykernel)",
   "language": "python",
   "name": "python3"
  },
  "language_info": {
   "codemirror_mode": {
    "name": "ipython",
    "version": 3
   },
   "file_extension": ".py",
   "mimetype": "text/x-python",
   "name": "python",
   "nbconvert_exporter": "python",
   "pygments_lexer": "ipython3",
   "version": "3.9.13"
  }
 },
 "nbformat": 4,
 "nbformat_minor": 5
}
