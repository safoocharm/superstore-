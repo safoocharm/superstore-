{
 "cells": [
  {
   "cell_type": "markdown",
   "id": "1983c72d",
   "metadata": {},
   "source": [
    "Objectives 1. Determine which are the busiest days in a week and throught out the year.\n",
    "           2. Determine which Food category do people pefer to buy?\n",
    "           3. Find any trends or patterns in the dataset which give insights on customer buying prefence of an item."
   ]
  },
  {
   "cell_type": "markdown",
   "id": "28e723f7",
   "metadata": {},
   "source": [
    "Importing libraries"
   ]
  },
  {
   "cell_type": "code",
   "execution_count": 177,
   "id": "72831a03",
   "metadata": {},
   "outputs": [],
   "source": [
    "import pandas as pd\n",
    "import numpy as np\n",
    "import matplotlib.pyplot as plt\n",
    "import seaborn as sns"
   ]
  },
  {
   "cell_type": "markdown",
   "id": "1e0e1a9f",
   "metadata": {},
   "source": [
    "\n",
    "Reading the file"
   ]
  },
  {
   "cell_type": "code",
   "execution_count": 178,
   "id": "4cc7eb83",
   "metadata": {},
   "outputs": [],
   "source": [
    "df = pd.read_csv(\"E:/Groceries_dataset.csv\",parse_dates = ['date'])\n"
   ]
  },
  {
   "cell_type": "markdown",
   "id": "54fa7c62",
   "metadata": {},
   "source": [
    "Initial data exploration"
   ]
  },
  {
   "cell_type": "code",
   "execution_count": 167,
   "id": "2287a04b",
   "metadata": {},
   "outputs": [
    {
     "data": {
      "text/html": [
       "<div>\n",
       "<style scoped>\n",
       "    .dataframe tbody tr th:only-of-type {\n",
       "        vertical-align: middle;\n",
       "    }\n",
       "\n",
       "    .dataframe tbody tr th {\n",
       "        vertical-align: top;\n",
       "    }\n",
       "\n",
       "    .dataframe thead th {\n",
       "        text-align: right;\n",
       "    }\n",
       "</style>\n",
       "<table border=\"1\" class=\"dataframe\">\n",
       "  <thead>\n",
       "    <tr style=\"text-align: right;\">\n",
       "      <th></th>\n",
       "      <th>date</th>\n",
       "      <th>dayOfWeek</th>\n",
       "      <th>no_of_customers</th>\n",
       "      <th>dairy</th>\n",
       "      <th>rice</th>\n",
       "      <th>wheat</th>\n",
       "      <th>fruits and vegtable</th>\n",
       "      <th>recipe mix</th>\n",
       "      <th>frozen</th>\n",
       "      <th>dry fruits</th>\n",
       "      <th>tea coffee</th>\n",
       "      <th>speices</th>\n",
       "      <th>oil</th>\n",
       "      <th>dates</th>\n",
       "      <th>snacks</th>\n",
       "      <th>chicken</th>\n",
       "      <th>beef</th>\n",
       "      <th>goat</th>\n",
       "      <th>seafood</th>\n",
       "    </tr>\n",
       "  </thead>\n",
       "  <tbody>\n",
       "    <tr>\n",
       "      <th>0</th>\n",
       "      <td>01-Jan</td>\n",
       "      <td>SAT</td>\n",
       "      <td>12</td>\n",
       "      <td>5</td>\n",
       "      <td>1</td>\n",
       "      <td>2</td>\n",
       "      <td>2</td>\n",
       "      <td>8</td>\n",
       "      <td>NaN</td>\n",
       "      <td>5</td>\n",
       "      <td>5</td>\n",
       "      <td>NaN</td>\n",
       "      <td>0</td>\n",
       "      <td>2.0</td>\n",
       "      <td>7</td>\n",
       "      <td>22.0</td>\n",
       "      <td>24</td>\n",
       "      <td>25.0</td>\n",
       "      <td>1</td>\n",
       "    </tr>\n",
       "    <tr>\n",
       "      <th>1</th>\n",
       "      <td>02-Jan</td>\n",
       "      <td>SUN</td>\n",
       "      <td>0</td>\n",
       "      <td>1</td>\n",
       "      <td>4</td>\n",
       "      <td>0</td>\n",
       "      <td>3</td>\n",
       "      <td>4</td>\n",
       "      <td>3.0</td>\n",
       "      <td>6</td>\n",
       "      <td>0</td>\n",
       "      <td>1.0</td>\n",
       "      <td>5</td>\n",
       "      <td>5.0</td>\n",
       "      <td>6</td>\n",
       "      <td>NaN</td>\n",
       "      <td>20</td>\n",
       "      <td>29.0</td>\n",
       "      <td>5</td>\n",
       "    </tr>\n",
       "    <tr>\n",
       "      <th>2</th>\n",
       "      <td>03-Jan</td>\n",
       "      <td>MON</td>\n",
       "      <td>4</td>\n",
       "      <td>9</td>\n",
       "      <td>4</td>\n",
       "      <td>1</td>\n",
       "      <td>5</td>\n",
       "      <td>2</td>\n",
       "      <td>3.0</td>\n",
       "      <td>6</td>\n",
       "      <td>2</td>\n",
       "      <td>7.0</td>\n",
       "      <td>2</td>\n",
       "      <td>6.0</td>\n",
       "      <td>1</td>\n",
       "      <td>22.0</td>\n",
       "      <td>21</td>\n",
       "      <td>23.0</td>\n",
       "      <td>3</td>\n",
       "    </tr>\n",
       "    <tr>\n",
       "      <th>3</th>\n",
       "      <td>04-Jan</td>\n",
       "      <td>TUE</td>\n",
       "      <td>9</td>\n",
       "      <td>2</td>\n",
       "      <td>6</td>\n",
       "      <td>1</td>\n",
       "      <td>2</td>\n",
       "      <td>8</td>\n",
       "      <td>5.0</td>\n",
       "      <td>7</td>\n",
       "      <td>4</td>\n",
       "      <td>9.0</td>\n",
       "      <td>0</td>\n",
       "      <td>7.0</td>\n",
       "      <td>5</td>\n",
       "      <td>21.0</td>\n",
       "      <td>17</td>\n",
       "      <td>NaN</td>\n",
       "      <td>1</td>\n",
       "    </tr>\n",
       "    <tr>\n",
       "      <th>4</th>\n",
       "      <td>05-Jan</td>\n",
       "      <td>WED</td>\n",
       "      <td>10</td>\n",
       "      <td>4</td>\n",
       "      <td>0</td>\n",
       "      <td>1</td>\n",
       "      <td>6</td>\n",
       "      <td>7</td>\n",
       "      <td>4.0</td>\n",
       "      <td>5</td>\n",
       "      <td>5</td>\n",
       "      <td>1.0</td>\n",
       "      <td>5</td>\n",
       "      <td>NaN</td>\n",
       "      <td>3</td>\n",
       "      <td>22.0</td>\n",
       "      <td>23</td>\n",
       "      <td>29.0</td>\n",
       "      <td>5</td>\n",
       "    </tr>\n",
       "  </tbody>\n",
       "</table>\n",
       "</div>"
      ],
      "text/plain": [
       "     date dayOfWeek  no_of_customers  dairy  rice  wheat  fruits and vegtable  \\\n",
       "0  01-Jan       SAT               12      5     1      2                    2   \n",
       "1  02-Jan       SUN                0      1     4      0                    3   \n",
       "2  03-Jan       MON                4      9     4      1                    5   \n",
       "3  04-Jan       TUE                9      2     6      1                    2   \n",
       "4  05-Jan       WED               10      4     0      1                    6   \n",
       "\n",
       "   recipe mix  frozen  dry fruits  tea coffee  speices  oil  dates  snacks  \\\n",
       "0           8     NaN           5           5      NaN    0    2.0       7   \n",
       "1           4     3.0           6           0      1.0    5    5.0       6   \n",
       "2           2     3.0           6           2      7.0    2    6.0       1   \n",
       "3           8     5.0           7           4      9.0    0    7.0       5   \n",
       "4           7     4.0           5           5      1.0    5    NaN       3   \n",
       "\n",
       "   chicken  beef  goat  seafood  \n",
       "0     22.0    24  25.0        1  \n",
       "1      NaN    20  29.0        5  \n",
       "2     22.0    21  23.0        3  \n",
       "3     21.0    17   NaN        1  \n",
       "4     22.0    23  29.0        5  "
      ]
     },
     "execution_count": 167,
     "metadata": {},
     "output_type": "execute_result"
    }
   ],
   "source": [
    "df.head()"
   ]
  },
  {
   "cell_type": "code",
   "execution_count": 66,
   "id": "358119e0",
   "metadata": {},
   "outputs": [
    {
     "data": {
      "text/plain": [
       "(367, 19)"
      ]
     },
     "execution_count": 66,
     "metadata": {},
     "output_type": "execute_result"
    }
   ],
   "source": [
    "df.shape"
   ]
  },
  {
   "cell_type": "code",
   "execution_count": 67,
   "id": "b41f56d6",
   "metadata": {},
   "outputs": [
    {
     "data": {
      "text/plain": [
       "Index(['date', 'dayOfWeek', 'no_of_customers', 'dairy', 'rice', 'wheat',\n",
       "       'fruits and vegtable', 'recipe mix', 'frozen', 'dry fruits',\n",
       "       'tea coffee', 'speices', 'oil', 'dates', 'snacks', 'chicken', 'beef',\n",
       "       'goat', 'seafood'],\n",
       "      dtype='object')"
      ]
     },
     "execution_count": 67,
     "metadata": {},
     "output_type": "execute_result"
    }
   ],
   "source": [
    "df.columns"
   ]
  },
  {
   "cell_type": "code",
   "execution_count": 68,
   "id": "bff55cfc",
   "metadata": {},
   "outputs": [
    {
     "data": {
      "text/html": [
       "<div>\n",
       "<style scoped>\n",
       "    .dataframe tbody tr th:only-of-type {\n",
       "        vertical-align: middle;\n",
       "    }\n",
       "\n",
       "    .dataframe tbody tr th {\n",
       "        vertical-align: top;\n",
       "    }\n",
       "\n",
       "    .dataframe thead th {\n",
       "        text-align: right;\n",
       "    }\n",
       "</style>\n",
       "<table border=\"1\" class=\"dataframe\">\n",
       "  <thead>\n",
       "    <tr style=\"text-align: right;\">\n",
       "      <th></th>\n",
       "      <th>date</th>\n",
       "      <th>dayOfWeek</th>\n",
       "      <th>no_of_customers</th>\n",
       "      <th>dairy</th>\n",
       "      <th>rice</th>\n",
       "      <th>wheat</th>\n",
       "      <th>fruits and vegtable</th>\n",
       "      <th>recipe mix</th>\n",
       "      <th>frozen</th>\n",
       "      <th>dry fruits</th>\n",
       "      <th>tea coffee</th>\n",
       "      <th>speices</th>\n",
       "      <th>oil</th>\n",
       "      <th>dates</th>\n",
       "      <th>snacks</th>\n",
       "      <th>chicken</th>\n",
       "      <th>beef</th>\n",
       "      <th>goat</th>\n",
       "      <th>seafood</th>\n",
       "    </tr>\n",
       "  </thead>\n",
       "  <tbody>\n",
       "    <tr>\n",
       "      <th>0</th>\n",
       "      <td>01-Jan</td>\n",
       "      <td>SAT</td>\n",
       "      <td>12</td>\n",
       "      <td>5</td>\n",
       "      <td>1</td>\n",
       "      <td>2</td>\n",
       "      <td>2</td>\n",
       "      <td>8</td>\n",
       "      <td>NaN</td>\n",
       "      <td>5</td>\n",
       "      <td>5</td>\n",
       "      <td>NaN</td>\n",
       "      <td>0</td>\n",
       "      <td>2.0</td>\n",
       "      <td>7</td>\n",
       "      <td>22.0</td>\n",
       "      <td>24</td>\n",
       "      <td>25.0</td>\n",
       "      <td>1</td>\n",
       "    </tr>\n",
       "    <tr>\n",
       "      <th>1</th>\n",
       "      <td>02-Jan</td>\n",
       "      <td>SUN</td>\n",
       "      <td>0</td>\n",
       "      <td>1</td>\n",
       "      <td>4</td>\n",
       "      <td>0</td>\n",
       "      <td>3</td>\n",
       "      <td>4</td>\n",
       "      <td>3.0</td>\n",
       "      <td>6</td>\n",
       "      <td>0</td>\n",
       "      <td>1.0</td>\n",
       "      <td>5</td>\n",
       "      <td>5.0</td>\n",
       "      <td>6</td>\n",
       "      <td>NaN</td>\n",
       "      <td>20</td>\n",
       "      <td>29.0</td>\n",
       "      <td>5</td>\n",
       "    </tr>\n",
       "    <tr>\n",
       "      <th>2</th>\n",
       "      <td>03-Jan</td>\n",
       "      <td>MON</td>\n",
       "      <td>4</td>\n",
       "      <td>9</td>\n",
       "      <td>4</td>\n",
       "      <td>1</td>\n",
       "      <td>5</td>\n",
       "      <td>2</td>\n",
       "      <td>3.0</td>\n",
       "      <td>6</td>\n",
       "      <td>2</td>\n",
       "      <td>7.0</td>\n",
       "      <td>2</td>\n",
       "      <td>6.0</td>\n",
       "      <td>1</td>\n",
       "      <td>22.0</td>\n",
       "      <td>21</td>\n",
       "      <td>23.0</td>\n",
       "      <td>3</td>\n",
       "    </tr>\n",
       "    <tr>\n",
       "      <th>3</th>\n",
       "      <td>04-Jan</td>\n",
       "      <td>TUE</td>\n",
       "      <td>9</td>\n",
       "      <td>2</td>\n",
       "      <td>6</td>\n",
       "      <td>1</td>\n",
       "      <td>2</td>\n",
       "      <td>8</td>\n",
       "      <td>5.0</td>\n",
       "      <td>7</td>\n",
       "      <td>4</td>\n",
       "      <td>9.0</td>\n",
       "      <td>0</td>\n",
       "      <td>7.0</td>\n",
       "      <td>5</td>\n",
       "      <td>21.0</td>\n",
       "      <td>17</td>\n",
       "      <td>NaN</td>\n",
       "      <td>1</td>\n",
       "    </tr>\n",
       "    <tr>\n",
       "      <th>4</th>\n",
       "      <td>05-Jan</td>\n",
       "      <td>WED</td>\n",
       "      <td>10</td>\n",
       "      <td>4</td>\n",
       "      <td>0</td>\n",
       "      <td>1</td>\n",
       "      <td>6</td>\n",
       "      <td>7</td>\n",
       "      <td>4.0</td>\n",
       "      <td>5</td>\n",
       "      <td>5</td>\n",
       "      <td>1.0</td>\n",
       "      <td>5</td>\n",
       "      <td>NaN</td>\n",
       "      <td>3</td>\n",
       "      <td>22.0</td>\n",
       "      <td>23</td>\n",
       "      <td>29.0</td>\n",
       "      <td>5</td>\n",
       "    </tr>\n",
       "  </tbody>\n",
       "</table>\n",
       "</div>"
      ],
      "text/plain": [
       "     date dayOfWeek  no_of_customers  dairy  rice  wheat  fruits and vegtable  \\\n",
       "0  01-Jan       SAT               12      5     1      2                    2   \n",
       "1  02-Jan       SUN                0      1     4      0                    3   \n",
       "2  03-Jan       MON                4      9     4      1                    5   \n",
       "3  04-Jan       TUE                9      2     6      1                    2   \n",
       "4  05-Jan       WED               10      4     0      1                    6   \n",
       "\n",
       "   recipe mix  frozen  dry fruits  tea coffee  speices  oil  dates  snacks  \\\n",
       "0           8     NaN           5           5      NaN    0    2.0       7   \n",
       "1           4     3.0           6           0      1.0    5    5.0       6   \n",
       "2           2     3.0           6           2      7.0    2    6.0       1   \n",
       "3           8     5.0           7           4      9.0    0    7.0       5   \n",
       "4           7     4.0           5           5      1.0    5    NaN       3   \n",
       "\n",
       "   chicken  beef  goat  seafood  \n",
       "0     22.0    24  25.0        1  \n",
       "1      NaN    20  29.0        5  \n",
       "2     22.0    21  23.0        3  \n",
       "3     21.0    17   NaN        1  \n",
       "4     22.0    23  29.0        5  "
      ]
     },
     "execution_count": 68,
     "metadata": {},
     "output_type": "execute_result"
    }
   ],
   "source": [
    "df.head()"
   ]
  },
  {
   "cell_type": "code",
   "execution_count": 69,
   "id": "332c2daf",
   "metadata": {},
   "outputs": [
    {
     "name": "stdout",
     "output_type": "stream",
     "text": [
      "<class 'pandas.core.frame.DataFrame'>\n",
      "RangeIndex: 367 entries, 0 to 366\n",
      "Data columns (total 19 columns):\n",
      " #   Column               Non-Null Count  Dtype  \n",
      "---  ------               --------------  -----  \n",
      " 0   date                 367 non-null    object \n",
      " 1   dayOfWeek            367 non-null    object \n",
      " 2   no_of_customers      367 non-null    int64  \n",
      " 3   dairy                367 non-null    int64  \n",
      " 4   rice                 367 non-null    int64  \n",
      " 5   wheat                367 non-null    int64  \n",
      " 6   fruits and vegtable  367 non-null    int64  \n",
      " 7   recipe mix           367 non-null    int64  \n",
      " 8   frozen               365 non-null    float64\n",
      " 9   dry fruits           367 non-null    int64  \n",
      " 10  tea coffee           367 non-null    int64  \n",
      " 11  speices              365 non-null    float64\n",
      " 12  oil                  367 non-null    int64  \n",
      " 13  dates                365 non-null    float64\n",
      " 14  snacks               367 non-null    int64  \n",
      " 15  chicken              365 non-null    float64\n",
      " 16  beef                 367 non-null    int64  \n",
      " 17  goat                 366 non-null    float64\n",
      " 18  seafood              367 non-null    int64  \n",
      "dtypes: float64(5), int64(12), object(2)\n",
      "memory usage: 54.6+ KB\n"
     ]
    }
   ],
   "source": [
    "df.info()"
   ]
  },
  {
   "cell_type": "code",
   "execution_count": 70,
   "id": "bfd4a616",
   "metadata": {},
   "outputs": [
    {
     "data": {
      "text/html": [
       "<div>\n",
       "<style scoped>\n",
       "    .dataframe tbody tr th:only-of-type {\n",
       "        vertical-align: middle;\n",
       "    }\n",
       "\n",
       "    .dataframe tbody tr th {\n",
       "        vertical-align: top;\n",
       "    }\n",
       "\n",
       "    .dataframe thead th {\n",
       "        text-align: right;\n",
       "    }\n",
       "</style>\n",
       "<table border=\"1\" class=\"dataframe\">\n",
       "  <thead>\n",
       "    <tr style=\"text-align: right;\">\n",
       "      <th></th>\n",
       "      <th>no_of_customers</th>\n",
       "      <th>dairy</th>\n",
       "      <th>rice</th>\n",
       "      <th>wheat</th>\n",
       "      <th>fruits and vegtable</th>\n",
       "      <th>recipe mix</th>\n",
       "      <th>frozen</th>\n",
       "      <th>dry fruits</th>\n",
       "      <th>tea coffee</th>\n",
       "      <th>speices</th>\n",
       "      <th>oil</th>\n",
       "      <th>dates</th>\n",
       "      <th>snacks</th>\n",
       "      <th>chicken</th>\n",
       "      <th>beef</th>\n",
       "      <th>goat</th>\n",
       "      <th>seafood</th>\n",
       "    </tr>\n",
       "  </thead>\n",
       "  <tbody>\n",
       "    <tr>\n",
       "      <th>count</th>\n",
       "      <td>367.000000</td>\n",
       "      <td>367.000000</td>\n",
       "      <td>367.000000</td>\n",
       "      <td>367.000000</td>\n",
       "      <td>367.000000</td>\n",
       "      <td>367.000000</td>\n",
       "      <td>365.000000</td>\n",
       "      <td>367.000000</td>\n",
       "      <td>367.000000</td>\n",
       "      <td>365.000000</td>\n",
       "      <td>367.000000</td>\n",
       "      <td>365.000000</td>\n",
       "      <td>367.000000</td>\n",
       "      <td>365.000000</td>\n",
       "      <td>367.000000</td>\n",
       "      <td>366.000000</td>\n",
       "      <td>367.000000</td>\n",
       "    </tr>\n",
       "    <tr>\n",
       "      <th>mean</th>\n",
       "      <td>9.730245</td>\n",
       "      <td>5.051771</td>\n",
       "      <td>4.111717</td>\n",
       "      <td>0.975477</td>\n",
       "      <td>3.049046</td>\n",
       "      <td>5.043597</td>\n",
       "      <td>4.405479</td>\n",
       "      <td>3.613079</td>\n",
       "      <td>2.468665</td>\n",
       "      <td>4.605479</td>\n",
       "      <td>2.724796</td>\n",
       "      <td>4.257534</td>\n",
       "      <td>3.820163</td>\n",
       "      <td>22.827397</td>\n",
       "      <td>20.269755</td>\n",
       "      <td>22.524590</td>\n",
       "      <td>4.776567</td>\n",
       "    </tr>\n",
       "    <tr>\n",
       "      <th>std</th>\n",
       "      <td>6.761005</td>\n",
       "      <td>3.297630</td>\n",
       "      <td>2.941330</td>\n",
       "      <td>0.837605</td>\n",
       "      <td>1.973262</td>\n",
       "      <td>1.992680</td>\n",
       "      <td>1.116791</td>\n",
       "      <td>2.248896</td>\n",
       "      <td>1.652444</td>\n",
       "      <td>2.842567</td>\n",
       "      <td>1.681793</td>\n",
       "      <td>5.405479</td>\n",
       "      <td>2.673555</td>\n",
       "      <td>2.875687</td>\n",
       "      <td>4.103941</td>\n",
       "      <td>5.313018</td>\n",
       "      <td>3.189668</td>\n",
       "    </tr>\n",
       "    <tr>\n",
       "      <th>min</th>\n",
       "      <td>0.000000</td>\n",
       "      <td>0.000000</td>\n",
       "      <td>0.000000</td>\n",
       "      <td>0.000000</td>\n",
       "      <td>0.000000</td>\n",
       "      <td>2.000000</td>\n",
       "      <td>3.000000</td>\n",
       "      <td>0.000000</td>\n",
       "      <td>0.000000</td>\n",
       "      <td>0.000000</td>\n",
       "      <td>0.000000</td>\n",
       "      <td>1.000000</td>\n",
       "      <td>0.000000</td>\n",
       "      <td>20.000000</td>\n",
       "      <td>15.000000</td>\n",
       "      <td>15.000000</td>\n",
       "      <td>0.000000</td>\n",
       "    </tr>\n",
       "    <tr>\n",
       "      <th>25%</th>\n",
       "      <td>5.000000</td>\n",
       "      <td>2.000000</td>\n",
       "      <td>2.000000</td>\n",
       "      <td>0.000000</td>\n",
       "      <td>1.000000</td>\n",
       "      <td>3.000000</td>\n",
       "      <td>3.000000</td>\n",
       "      <td>2.000000</td>\n",
       "      <td>1.000000</td>\n",
       "      <td>2.000000</td>\n",
       "      <td>1.000000</td>\n",
       "      <td>2.000000</td>\n",
       "      <td>1.000000</td>\n",
       "      <td>21.000000</td>\n",
       "      <td>17.000000</td>\n",
       "      <td>18.000000</td>\n",
       "      <td>2.000000</td>\n",
       "    </tr>\n",
       "    <tr>\n",
       "      <th>50%</th>\n",
       "      <td>9.000000</td>\n",
       "      <td>5.000000</td>\n",
       "      <td>4.000000</td>\n",
       "      <td>1.000000</td>\n",
       "      <td>3.000000</td>\n",
       "      <td>5.000000</td>\n",
       "      <td>4.000000</td>\n",
       "      <td>4.000000</td>\n",
       "      <td>2.000000</td>\n",
       "      <td>5.000000</td>\n",
       "      <td>3.000000</td>\n",
       "      <td>4.000000</td>\n",
       "      <td>4.000000</td>\n",
       "      <td>23.000000</td>\n",
       "      <td>20.000000</td>\n",
       "      <td>22.000000</td>\n",
       "      <td>5.000000</td>\n",
       "    </tr>\n",
       "    <tr>\n",
       "      <th>75%</th>\n",
       "      <td>13.000000</td>\n",
       "      <td>8.000000</td>\n",
       "      <td>6.000000</td>\n",
       "      <td>2.000000</td>\n",
       "      <td>5.000000</td>\n",
       "      <td>7.000000</td>\n",
       "      <td>5.000000</td>\n",
       "      <td>6.000000</td>\n",
       "      <td>4.000000</td>\n",
       "      <td>7.000000</td>\n",
       "      <td>4.000000</td>\n",
       "      <td>6.000000</td>\n",
       "      <td>6.000000</td>\n",
       "      <td>24.000000</td>\n",
       "      <td>23.000000</td>\n",
       "      <td>26.000000</td>\n",
       "      <td>7.000000</td>\n",
       "    </tr>\n",
       "    <tr>\n",
       "      <th>max</th>\n",
       "      <td>66.000000</td>\n",
       "      <td>11.000000</td>\n",
       "      <td>30.000000</td>\n",
       "      <td>2.000000</td>\n",
       "      <td>6.000000</td>\n",
       "      <td>8.000000</td>\n",
       "      <td>6.000000</td>\n",
       "      <td>7.000000</td>\n",
       "      <td>5.000000</td>\n",
       "      <td>9.000000</td>\n",
       "      <td>5.000000</td>\n",
       "      <td>100.000000</td>\n",
       "      <td>8.000000</td>\n",
       "      <td>60.000000</td>\n",
       "      <td>65.000000</td>\n",
       "      <td>61.000000</td>\n",
       "      <td>10.000000</td>\n",
       "    </tr>\n",
       "  </tbody>\n",
       "</table>\n",
       "</div>"
      ],
      "text/plain": [
       "       no_of_customers       dairy        rice       wheat  \\\n",
       "count       367.000000  367.000000  367.000000  367.000000   \n",
       "mean          9.730245    5.051771    4.111717    0.975477   \n",
       "std           6.761005    3.297630    2.941330    0.837605   \n",
       "min           0.000000    0.000000    0.000000    0.000000   \n",
       "25%           5.000000    2.000000    2.000000    0.000000   \n",
       "50%           9.000000    5.000000    4.000000    1.000000   \n",
       "75%          13.000000    8.000000    6.000000    2.000000   \n",
       "max          66.000000   11.000000   30.000000    2.000000   \n",
       "\n",
       "       fruits and vegtable  recipe mix      frozen  dry fruits  tea coffee  \\\n",
       "count           367.000000  367.000000  365.000000  367.000000  367.000000   \n",
       "mean              3.049046    5.043597    4.405479    3.613079    2.468665   \n",
       "std               1.973262    1.992680    1.116791    2.248896    1.652444   \n",
       "min               0.000000    2.000000    3.000000    0.000000    0.000000   \n",
       "25%               1.000000    3.000000    3.000000    2.000000    1.000000   \n",
       "50%               3.000000    5.000000    4.000000    4.000000    2.000000   \n",
       "75%               5.000000    7.000000    5.000000    6.000000    4.000000   \n",
       "max               6.000000    8.000000    6.000000    7.000000    5.000000   \n",
       "\n",
       "          speices         oil       dates      snacks     chicken        beef  \\\n",
       "count  365.000000  367.000000  365.000000  367.000000  365.000000  367.000000   \n",
       "mean     4.605479    2.724796    4.257534    3.820163   22.827397   20.269755   \n",
       "std      2.842567    1.681793    5.405479    2.673555    2.875687    4.103941   \n",
       "min      0.000000    0.000000    1.000000    0.000000   20.000000   15.000000   \n",
       "25%      2.000000    1.000000    2.000000    1.000000   21.000000   17.000000   \n",
       "50%      5.000000    3.000000    4.000000    4.000000   23.000000   20.000000   \n",
       "75%      7.000000    4.000000    6.000000    6.000000   24.000000   23.000000   \n",
       "max      9.000000    5.000000  100.000000    8.000000   60.000000   65.000000   \n",
       "\n",
       "             goat     seafood  \n",
       "count  366.000000  367.000000  \n",
       "mean    22.524590    4.776567  \n",
       "std      5.313018    3.189668  \n",
       "min     15.000000    0.000000  \n",
       "25%     18.000000    2.000000  \n",
       "50%     22.000000    5.000000  \n",
       "75%     26.000000    7.000000  \n",
       "max     61.000000   10.000000  "
      ]
     },
     "execution_count": 70,
     "metadata": {},
     "output_type": "execute_result"
    }
   ],
   "source": [
    "df.describe()"
   ]
  },
  {
   "cell_type": "markdown",
   "id": "f94f175d",
   "metadata": {},
   "source": [
    "considering date as the primary key. Treating duplicates by top to down approach."
   ]
  },
  {
   "cell_type": "code",
   "execution_count": 81,
   "id": "d1c91a2a",
   "metadata": {},
   "outputs": [
    {
     "data": {
      "text/plain": [
       "0      False\n",
       "1      False\n",
       "2      False\n",
       "3      False\n",
       "4      False\n",
       "       ...  \n",
       "360    False\n",
       "361    False\n",
       "362    False\n",
       "363    False\n",
       "364    False\n",
       "Length: 365, dtype: bool"
      ]
     },
     "execution_count": 81,
     "metadata": {},
     "output_type": "execute_result"
    }
   ],
   "source": [
    "df.duplicated(subset = 'date',keep ='first')"
   ]
  },
  {
   "cell_type": "code",
   "execution_count": 72,
   "id": "5239aa06",
   "metadata": {},
   "outputs": [],
   "source": [
    "df.drop_duplicates(inplace = True)"
   ]
  },
  {
   "cell_type": "markdown",
   "id": "3e32806a",
   "metadata": {},
   "source": [
    "Deleting duplicates"
   ]
  },
  {
   "cell_type": "code",
   "execution_count": 73,
   "id": "33c5c8c9",
   "metadata": {},
   "outputs": [
    {
     "data": {
      "text/html": [
       "<div>\n",
       "<style scoped>\n",
       "    .dataframe tbody tr th:only-of-type {\n",
       "        vertical-align: middle;\n",
       "    }\n",
       "\n",
       "    .dataframe tbody tr th {\n",
       "        vertical-align: top;\n",
       "    }\n",
       "\n",
       "    .dataframe thead th {\n",
       "        text-align: right;\n",
       "    }\n",
       "</style>\n",
       "<table border=\"1\" class=\"dataframe\">\n",
       "  <thead>\n",
       "    <tr style=\"text-align: right;\">\n",
       "      <th></th>\n",
       "      <th>date</th>\n",
       "      <th>dayOfWeek</th>\n",
       "      <th>no_of_customers</th>\n",
       "      <th>dairy</th>\n",
       "      <th>rice</th>\n",
       "      <th>wheat</th>\n",
       "      <th>fruits and vegtable</th>\n",
       "      <th>recipe mix</th>\n",
       "      <th>frozen</th>\n",
       "      <th>dry fruits</th>\n",
       "      <th>tea coffee</th>\n",
       "      <th>speices</th>\n",
       "      <th>oil</th>\n",
       "      <th>dates</th>\n",
       "      <th>snacks</th>\n",
       "      <th>chicken</th>\n",
       "      <th>beef</th>\n",
       "      <th>goat</th>\n",
       "      <th>seafood</th>\n",
       "    </tr>\n",
       "  </thead>\n",
       "  <tbody>\n",
       "    <tr>\n",
       "      <th>0</th>\n",
       "      <td>01-Jan</td>\n",
       "      <td>SAT</td>\n",
       "      <td>12</td>\n",
       "      <td>5</td>\n",
       "      <td>1</td>\n",
       "      <td>2</td>\n",
       "      <td>2</td>\n",
       "      <td>8</td>\n",
       "      <td>NaN</td>\n",
       "      <td>5</td>\n",
       "      <td>5</td>\n",
       "      <td>NaN</td>\n",
       "      <td>0</td>\n",
       "      <td>2.0</td>\n",
       "      <td>7</td>\n",
       "      <td>22.0</td>\n",
       "      <td>24</td>\n",
       "      <td>25.0</td>\n",
       "      <td>1</td>\n",
       "    </tr>\n",
       "    <tr>\n",
       "      <th>1</th>\n",
       "      <td>02-Jan</td>\n",
       "      <td>SUN</td>\n",
       "      <td>0</td>\n",
       "      <td>1</td>\n",
       "      <td>4</td>\n",
       "      <td>0</td>\n",
       "      <td>3</td>\n",
       "      <td>4</td>\n",
       "      <td>3.0</td>\n",
       "      <td>6</td>\n",
       "      <td>0</td>\n",
       "      <td>1.0</td>\n",
       "      <td>5</td>\n",
       "      <td>5.0</td>\n",
       "      <td>6</td>\n",
       "      <td>NaN</td>\n",
       "      <td>20</td>\n",
       "      <td>29.0</td>\n",
       "      <td>5</td>\n",
       "    </tr>\n",
       "    <tr>\n",
       "      <th>2</th>\n",
       "      <td>03-Jan</td>\n",
       "      <td>MON</td>\n",
       "      <td>4</td>\n",
       "      <td>9</td>\n",
       "      <td>4</td>\n",
       "      <td>1</td>\n",
       "      <td>5</td>\n",
       "      <td>2</td>\n",
       "      <td>3.0</td>\n",
       "      <td>6</td>\n",
       "      <td>2</td>\n",
       "      <td>7.0</td>\n",
       "      <td>2</td>\n",
       "      <td>6.0</td>\n",
       "      <td>1</td>\n",
       "      <td>22.0</td>\n",
       "      <td>21</td>\n",
       "      <td>23.0</td>\n",
       "      <td>3</td>\n",
       "    </tr>\n",
       "    <tr>\n",
       "      <th>3</th>\n",
       "      <td>04-Jan</td>\n",
       "      <td>TUE</td>\n",
       "      <td>9</td>\n",
       "      <td>2</td>\n",
       "      <td>6</td>\n",
       "      <td>1</td>\n",
       "      <td>2</td>\n",
       "      <td>8</td>\n",
       "      <td>5.0</td>\n",
       "      <td>7</td>\n",
       "      <td>4</td>\n",
       "      <td>9.0</td>\n",
       "      <td>0</td>\n",
       "      <td>7.0</td>\n",
       "      <td>5</td>\n",
       "      <td>21.0</td>\n",
       "      <td>17</td>\n",
       "      <td>NaN</td>\n",
       "      <td>1</td>\n",
       "    </tr>\n",
       "    <tr>\n",
       "      <th>4</th>\n",
       "      <td>05-Jan</td>\n",
       "      <td>WED</td>\n",
       "      <td>10</td>\n",
       "      <td>4</td>\n",
       "      <td>0</td>\n",
       "      <td>1</td>\n",
       "      <td>6</td>\n",
       "      <td>7</td>\n",
       "      <td>4.0</td>\n",
       "      <td>5</td>\n",
       "      <td>5</td>\n",
       "      <td>1.0</td>\n",
       "      <td>5</td>\n",
       "      <td>NaN</td>\n",
       "      <td>3</td>\n",
       "      <td>22.0</td>\n",
       "      <td>23</td>\n",
       "      <td>29.0</td>\n",
       "      <td>5</td>\n",
       "    </tr>\n",
       "  </tbody>\n",
       "</table>\n",
       "</div>"
      ],
      "text/plain": [
       "     date dayOfWeek  no_of_customers  dairy  rice  wheat  fruits and vegtable  \\\n",
       "0  01-Jan       SAT               12      5     1      2                    2   \n",
       "1  02-Jan       SUN                0      1     4      0                    3   \n",
       "2  03-Jan       MON                4      9     4      1                    5   \n",
       "3  04-Jan       TUE                9      2     6      1                    2   \n",
       "4  05-Jan       WED               10      4     0      1                    6   \n",
       "\n",
       "   recipe mix  frozen  dry fruits  tea coffee  speices  oil  dates  snacks  \\\n",
       "0           8     NaN           5           5      NaN    0    2.0       7   \n",
       "1           4     3.0           6           0      1.0    5    5.0       6   \n",
       "2           2     3.0           6           2      7.0    2    6.0       1   \n",
       "3           8     5.0           7           4      9.0    0    7.0       5   \n",
       "4           7     4.0           5           5      1.0    5    NaN       3   \n",
       "\n",
       "   chicken  beef  goat  seafood  \n",
       "0     22.0    24  25.0        1  \n",
       "1      NaN    20  29.0        5  \n",
       "2     22.0    21  23.0        3  \n",
       "3     21.0    17   NaN        1  \n",
       "4     22.0    23  29.0        5  "
      ]
     },
     "execution_count": 73,
     "metadata": {},
     "output_type": "execute_result"
    }
   ],
   "source": [
    "df.head()"
   ]
  },
  {
   "cell_type": "code",
   "execution_count": 74,
   "id": "9a021dc8",
   "metadata": {},
   "outputs": [
    {
     "data": {
      "text/plain": [
       "(366, 19)"
      ]
     },
     "execution_count": 74,
     "metadata": {},
     "output_type": "execute_result"
    }
   ],
   "source": [
    "df.shape"
   ]
  },
  {
   "cell_type": "code",
   "execution_count": 78,
   "id": "4ac26ca4",
   "metadata": {},
   "outputs": [
    {
     "data": {
      "text/plain": [
       "0      False\n",
       "1      False\n",
       "2      False\n",
       "3      False\n",
       "4      False\n",
       "       ...  \n",
       "361    False\n",
       "362    False\n",
       "363    False\n",
       "364    False\n",
       "366     True\n",
       "Length: 366, dtype: bool"
      ]
     },
     "execution_count": 78,
     "metadata": {},
     "output_type": "execute_result"
    }
   ],
   "source": [
    "df.duplicated(subset = 'date')"
   ]
  },
  {
   "cell_type": "code",
   "execution_count": 80,
   "id": "9b2eb9b0",
   "metadata": {},
   "outputs": [],
   "source": [
    "df.drop_duplicates(subset = 'date',keep = 'first',inplace = True)"
   ]
  },
  {
   "cell_type": "markdown",
   "id": "cb3c714b",
   "metadata": {},
   "source": [
    "Checking for duplicates"
   ]
  },
  {
   "cell_type": "code",
   "execution_count": 77,
   "id": "3f7512fa",
   "metadata": {},
   "outputs": [
    {
     "data": {
      "text/html": [
       "<div>\n",
       "<style scoped>\n",
       "    .dataframe tbody tr th:only-of-type {\n",
       "        vertical-align: middle;\n",
       "    }\n",
       "\n",
       "    .dataframe tbody tr th {\n",
       "        vertical-align: top;\n",
       "    }\n",
       "\n",
       "    .dataframe thead th {\n",
       "        text-align: right;\n",
       "    }\n",
       "</style>\n",
       "<table border=\"1\" class=\"dataframe\">\n",
       "  <thead>\n",
       "    <tr style=\"text-align: right;\">\n",
       "      <th></th>\n",
       "      <th>date</th>\n",
       "      <th>dayOfWeek</th>\n",
       "      <th>no_of_customers</th>\n",
       "      <th>dairy</th>\n",
       "      <th>rice</th>\n",
       "      <th>wheat</th>\n",
       "      <th>fruits and vegtable</th>\n",
       "      <th>recipe mix</th>\n",
       "      <th>frozen</th>\n",
       "      <th>dry fruits</th>\n",
       "      <th>tea coffee</th>\n",
       "      <th>speices</th>\n",
       "      <th>oil</th>\n",
       "      <th>dates</th>\n",
       "      <th>snacks</th>\n",
       "      <th>chicken</th>\n",
       "      <th>beef</th>\n",
       "      <th>goat</th>\n",
       "      <th>seafood</th>\n",
       "    </tr>\n",
       "  </thead>\n",
       "  <tbody>\n",
       "    <tr>\n",
       "      <th>0</th>\n",
       "      <td>01-Jan</td>\n",
       "      <td>SAT</td>\n",
       "      <td>12</td>\n",
       "      <td>5</td>\n",
       "      <td>1</td>\n",
       "      <td>2</td>\n",
       "      <td>2</td>\n",
       "      <td>8</td>\n",
       "      <td>NaN</td>\n",
       "      <td>5</td>\n",
       "      <td>5</td>\n",
       "      <td>NaN</td>\n",
       "      <td>0</td>\n",
       "      <td>2.0</td>\n",
       "      <td>7</td>\n",
       "      <td>22.0</td>\n",
       "      <td>24</td>\n",
       "      <td>25.0</td>\n",
       "      <td>1</td>\n",
       "    </tr>\n",
       "    <tr>\n",
       "      <th>1</th>\n",
       "      <td>02-Jan</td>\n",
       "      <td>SUN</td>\n",
       "      <td>0</td>\n",
       "      <td>1</td>\n",
       "      <td>4</td>\n",
       "      <td>0</td>\n",
       "      <td>3</td>\n",
       "      <td>4</td>\n",
       "      <td>3.0</td>\n",
       "      <td>6</td>\n",
       "      <td>0</td>\n",
       "      <td>1.0</td>\n",
       "      <td>5</td>\n",
       "      <td>5.0</td>\n",
       "      <td>6</td>\n",
       "      <td>NaN</td>\n",
       "      <td>20</td>\n",
       "      <td>29.0</td>\n",
       "      <td>5</td>\n",
       "    </tr>\n",
       "    <tr>\n",
       "      <th>2</th>\n",
       "      <td>03-Jan</td>\n",
       "      <td>MON</td>\n",
       "      <td>4</td>\n",
       "      <td>9</td>\n",
       "      <td>4</td>\n",
       "      <td>1</td>\n",
       "      <td>5</td>\n",
       "      <td>2</td>\n",
       "      <td>3.0</td>\n",
       "      <td>6</td>\n",
       "      <td>2</td>\n",
       "      <td>7.0</td>\n",
       "      <td>2</td>\n",
       "      <td>6.0</td>\n",
       "      <td>1</td>\n",
       "      <td>22.0</td>\n",
       "      <td>21</td>\n",
       "      <td>23.0</td>\n",
       "      <td>3</td>\n",
       "    </tr>\n",
       "    <tr>\n",
       "      <th>3</th>\n",
       "      <td>04-Jan</td>\n",
       "      <td>TUE</td>\n",
       "      <td>9</td>\n",
       "      <td>2</td>\n",
       "      <td>6</td>\n",
       "      <td>1</td>\n",
       "      <td>2</td>\n",
       "      <td>8</td>\n",
       "      <td>5.0</td>\n",
       "      <td>7</td>\n",
       "      <td>4</td>\n",
       "      <td>9.0</td>\n",
       "      <td>0</td>\n",
       "      <td>7.0</td>\n",
       "      <td>5</td>\n",
       "      <td>21.0</td>\n",
       "      <td>17</td>\n",
       "      <td>NaN</td>\n",
       "      <td>1</td>\n",
       "    </tr>\n",
       "    <tr>\n",
       "      <th>4</th>\n",
       "      <td>05-Jan</td>\n",
       "      <td>WED</td>\n",
       "      <td>10</td>\n",
       "      <td>4</td>\n",
       "      <td>0</td>\n",
       "      <td>1</td>\n",
       "      <td>6</td>\n",
       "      <td>7</td>\n",
       "      <td>4.0</td>\n",
       "      <td>5</td>\n",
       "      <td>5</td>\n",
       "      <td>1.0</td>\n",
       "      <td>5</td>\n",
       "      <td>NaN</td>\n",
       "      <td>3</td>\n",
       "      <td>22.0</td>\n",
       "      <td>23</td>\n",
       "      <td>29.0</td>\n",
       "      <td>5</td>\n",
       "    </tr>\n",
       "  </tbody>\n",
       "</table>\n",
       "</div>"
      ],
      "text/plain": [
       "     date dayOfWeek  no_of_customers  dairy  rice  wheat  fruits and vegtable  \\\n",
       "0  01-Jan       SAT               12      5     1      2                    2   \n",
       "1  02-Jan       SUN                0      1     4      0                    3   \n",
       "2  03-Jan       MON                4      9     4      1                    5   \n",
       "3  04-Jan       TUE                9      2     6      1                    2   \n",
       "4  05-Jan       WED               10      4     0      1                    6   \n",
       "\n",
       "   recipe mix  frozen  dry fruits  tea coffee  speices  oil  dates  snacks  \\\n",
       "0           8     NaN           5           5      NaN    0    2.0       7   \n",
       "1           4     3.0           6           0      1.0    5    5.0       6   \n",
       "2           2     3.0           6           2      7.0    2    6.0       1   \n",
       "3           8     5.0           7           4      9.0    0    7.0       5   \n",
       "4           7     4.0           5           5      1.0    5    NaN       3   \n",
       "\n",
       "   chicken  beef  goat  seafood  \n",
       "0     22.0    24  25.0        1  \n",
       "1      NaN    20  29.0        5  \n",
       "2     22.0    21  23.0        3  \n",
       "3     21.0    17   NaN        1  \n",
       "4     22.0    23  29.0        5  "
      ]
     },
     "execution_count": 77,
     "metadata": {},
     "output_type": "execute_result"
    }
   ],
   "source": [
    "df.head()"
   ]
  },
  {
   "cell_type": "markdown",
   "id": "3e0b722b",
   "metadata": {},
   "source": [
    "checking for Null values"
   ]
  },
  {
   "cell_type": "code",
   "execution_count": 82,
   "id": "8513a3f8",
   "metadata": {},
   "outputs": [
    {
     "data": {
      "text/plain": [
       "date                   False\n",
       "dayOfWeek              False\n",
       "no_of_customers        False\n",
       "dairy                  False\n",
       "rice                   False\n",
       "wheat                  False\n",
       "fruits and vegtable    False\n",
       "recipe mix             False\n",
       "frozen                  True\n",
       "dry fruits             False\n",
       "tea coffee             False\n",
       "speices                 True\n",
       "oil                    False\n",
       "dates                   True\n",
       "snacks                 False\n",
       "chicken                 True\n",
       "beef                   False\n",
       "goat                    True\n",
       "seafood                False\n",
       "dtype: bool"
      ]
     },
     "execution_count": 82,
     "metadata": {},
     "output_type": "execute_result"
    }
   ],
   "source": [
    "df.isna().any()"
   ]
  },
  {
   "cell_type": "markdown",
   "id": "c12335b0",
   "metadata": {},
   "source": [
    "Null Values in Frozen,dates,chicken,goat"
   ]
  },
  {
   "cell_type": "code",
   "execution_count": 85,
   "id": "810defb0",
   "metadata": {},
   "outputs": [
    {
     "data": {
      "text/plain": [
       "2"
      ]
     },
     "execution_count": 85,
     "metadata": {},
     "output_type": "execute_result"
    }
   ],
   "source": [
    "df['frozen'].isnull().sum()"
   ]
  },
  {
   "cell_type": "markdown",
   "id": "d37b97cf",
   "metadata": {},
   "source": [
    "Using mean imputation to fill Nulls in frozen column"
   ]
  },
  {
   "cell_type": "code",
   "execution_count": 86,
   "id": "a5aa2005",
   "metadata": {},
   "outputs": [],
   "source": [
    "df['frozen'].fillna(df['frozen'].mean(),inplace = True)"
   ]
  },
  {
   "cell_type": "code",
   "execution_count": 87,
   "id": "87511d9d",
   "metadata": {},
   "outputs": [
    {
     "data": {
      "text/plain": [
       "0"
      ]
     },
     "execution_count": 87,
     "metadata": {},
     "output_type": "execute_result"
    }
   ],
   "source": [
    "df['frozen'].isnull().sum()"
   ]
  },
  {
   "cell_type": "markdown",
   "id": "43e8853e",
   "metadata": {},
   "source": [
    "Find any trends or patterns in the dataset which give insights on customer buying prefence of an item."
   ]
  },
  {
   "cell_type": "code",
   "execution_count": 88,
   "id": "ee2dfaa2",
   "metadata": {},
   "outputs": [
    {
     "data": {
      "text/plain": [
       "4.258953168044077"
      ]
     },
     "execution_count": 88,
     "metadata": {},
     "output_type": "execute_result"
    }
   ],
   "source": [
    "df['dates'].mean()\n"
   ]
  },
  {
   "cell_type": "code",
   "execution_count": 89,
   "id": "cd633b34",
   "metadata": {},
   "outputs": [
    {
     "data": {
      "text/plain": [
       "2"
      ]
     },
     "execution_count": 89,
     "metadata": {},
     "output_type": "execute_result"
    }
   ],
   "source": [
    "df['dates'].isnull().sum()"
   ]
  },
  {
   "cell_type": "code",
   "execution_count": 90,
   "id": "9c25ff9a",
   "metadata": {},
   "outputs": [
    {
     "data": {
      "text/plain": [
       "5.420357168055675"
      ]
     },
     "execution_count": 90,
     "metadata": {},
     "output_type": "execute_result"
    }
   ],
   "source": [
    "df['dates'].std()"
   ]
  },
  {
   "cell_type": "code",
   "execution_count": 91,
   "id": "5a7c033b",
   "metadata": {},
   "outputs": [
    {
     "data": {
      "text/plain": [
       "4.0"
      ]
     },
     "execution_count": 91,
     "metadata": {},
     "output_type": "execute_result"
    }
   ],
   "source": [
    "df['dates'].median()"
   ]
  },
  {
   "cell_type": "code",
   "execution_count": 92,
   "id": "3b5d9f3a",
   "metadata": {},
   "outputs": [
    {
     "data": {
      "text/plain": [
       "100.0"
      ]
     },
     "execution_count": 92,
     "metadata": {},
     "output_type": "execute_result"
    }
   ],
   "source": [
    "df['dates'].max()"
   ]
  },
  {
   "cell_type": "code",
   "execution_count": 93,
   "id": "88280d23",
   "metadata": {},
   "outputs": [
    {
     "data": {
      "text/plain": [
       "(array([362.,   0.,   0.,   0.,   0.,   0.,   0.,   0.,   0.,   1.]),\n",
       " array([  1. ,  10.9,  20.8,  30.7,  40.6,  50.5,  60.4,  70.3,  80.2,\n",
       "         90.1, 100. ]),\n",
       " <BarContainer object of 10 artists>)"
      ]
     },
     "execution_count": 93,
     "metadata": {},
     "output_type": "execute_result"
    },
    {
     "data": {
      "image/png": "[encoded data removed]",
      "text/plain": [
       "<Figure size 640x480 with 1 Axes>"
      ]
     },
     "metadata": {},
     "output_type": "display_data"
    }
   ],
   "source": [
    "plt.hist(df['dates'])"
   ]
  },
  {
   "cell_type": "markdown",
   "id": "155cf7d1",
   "metadata": {},
   "source": [
    "Clearly shows outlier in dates. Customers prefer buying dates around the festive seasons."
   ]
  },
  {
   "cell_type": "code",
   "execution_count": 96,
   "id": "bf53d416",
   "metadata": {},
   "outputs": [
    {
     "data": {
      "text/plain": [
       "<AxesSubplot:xlabel='dates'>"
      ]
     },
     "execution_count": 96,
     "metadata": {},
     "output_type": "execute_result"
    },
    {
     "data": {
      "image/png": "[encoded data removed]",
      "text/plain": [
       "<Figure size 640x480 with 1 Axes>"
      ]
     },
     "metadata": {},
     "output_type": "display_data"
    }
   ],
   "source": [
    "sns.boxplot(x = 'dates',data = df)"
   ]
  },
  {
   "cell_type": "code",
   "execution_count": 97,
   "id": "66b32d02",
   "metadata": {},
   "outputs": [],
   "source": [
    "df['dates'].fillna(df['dates'].mean(),inplace = True)"
   ]
  },
  {
   "cell_type": "code",
   "execution_count": 99,
   "id": "1a44bd3e",
   "metadata": {},
   "outputs": [
    {
     "data": {
      "text/plain": [
       "0"
      ]
     },
     "execution_count": 99,
     "metadata": {},
     "output_type": "execute_result"
    }
   ],
   "source": [
    "df['dates'].isnull().sum()"
   ]
  },
  {
   "cell_type": "code",
   "execution_count": 100,
   "id": "8a09581e",
   "metadata": {},
   "outputs": [
    {
     "data": {
      "text/plain": [
       "date                   False\n",
       "dayOfWeek              False\n",
       "no_of_customers        False\n",
       "dairy                  False\n",
       "rice                   False\n",
       "wheat                  False\n",
       "fruits and vegtable    False\n",
       "recipe mix             False\n",
       "frozen                 False\n",
       "dry fruits             False\n",
       "tea coffee             False\n",
       "speices                 True\n",
       "oil                    False\n",
       "dates                  False\n",
       "snacks                 False\n",
       "chicken                 True\n",
       "beef                   False\n",
       "goat                    True\n",
       "seafood                False\n",
       "dtype: bool"
      ]
     },
     "execution_count": 100,
     "metadata": {},
     "output_type": "execute_result"
    }
   ],
   "source": [
    "df.isna().any()"
   ]
  },
  {
   "cell_type": "code",
   "execution_count": 101,
   "id": "fbaf1b2c",
   "metadata": {},
   "outputs": [
    {
     "data": {
      "text/plain": [
       "2"
      ]
     },
     "execution_count": 101,
     "metadata": {},
     "output_type": "execute_result"
    }
   ],
   "source": [
    "df['speices'].isnull().sum()"
   ]
  },
  {
   "cell_type": "code",
   "execution_count": 102,
   "id": "ecc71e1f",
   "metadata": {},
   "outputs": [],
   "source": [
    "df['speices'].fillna(df['speices'].mean(),inplace = True)"
   ]
  },
  {
   "cell_type": "code",
   "execution_count": 103,
   "id": "c15c6ad4",
   "metadata": {},
   "outputs": [
    {
     "data": {
      "text/plain": [
       "0"
      ]
     },
     "execution_count": 103,
     "metadata": {},
     "output_type": "execute_result"
    }
   ],
   "source": [
    "df['speices'].isnull().sum()"
   ]
  },
  {
   "cell_type": "code",
   "execution_count": 104,
   "id": "b36a726c",
   "metadata": {},
   "outputs": [
    {
     "data": {
      "text/plain": [
       "2"
      ]
     },
     "execution_count": 104,
     "metadata": {},
     "output_type": "execute_result"
    }
   ],
   "source": [
    "df['chicken'].isnull().sum()"
   ]
  },
  {
   "cell_type": "code",
   "execution_count": 105,
   "id": "a799a1dc",
   "metadata": {},
   "outputs": [],
   "source": [
    "df['chicken'].fillna(df['chicken'].mean(),inplace = True)"
   ]
  },
  {
   "cell_type": "code",
   "execution_count": 106,
   "id": "2735875b",
   "metadata": {},
   "outputs": [
    {
     "data": {
      "text/plain": [
       "0"
      ]
     },
     "execution_count": 106,
     "metadata": {},
     "output_type": "execute_result"
    }
   ],
   "source": [
    "df['chicken'].isnull().sum()"
   ]
  },
  {
   "cell_type": "code",
   "execution_count": 107,
   "id": "88b3837f",
   "metadata": {},
   "outputs": [
    {
     "data": {
      "text/plain": [
       "1"
      ]
     },
     "execution_count": 107,
     "metadata": {},
     "output_type": "execute_result"
    }
   ],
   "source": [
    "df['goat'].isnull().sum()"
   ]
  },
  {
   "cell_type": "code",
   "execution_count": 108,
   "id": "525e4450",
   "metadata": {},
   "outputs": [],
   "source": [
    "df['goat'].fillna(df['goat'].mean(),inplace = True)"
   ]
  },
  {
   "cell_type": "code",
   "execution_count": 109,
   "id": "360f5868",
   "metadata": {},
   "outputs": [
    {
     "data": {
      "text/plain": [
       "date                   False\n",
       "dayOfWeek              False\n",
       "no_of_customers        False\n",
       "dairy                  False\n",
       "rice                   False\n",
       "wheat                  False\n",
       "fruits and vegtable    False\n",
       "recipe mix             False\n",
       "frozen                 False\n",
       "dry fruits             False\n",
       "tea coffee             False\n",
       "speices                False\n",
       "oil                    False\n",
       "dates                  False\n",
       "snacks                 False\n",
       "chicken                False\n",
       "beef                   False\n",
       "goat                   False\n",
       "seafood                False\n",
       "dtype: bool"
      ]
     },
     "execution_count": 109,
     "metadata": {},
     "output_type": "execute_result"
    }
   ],
   "source": [
    "df.isna().any()"
   ]
  },
  {
   "cell_type": "markdown",
   "id": "eaa1844d",
   "metadata": {},
   "source": [
    "No Null values"
   ]
  },
  {
   "cell_type": "markdown",
   "id": "35a2818b",
   "metadata": {},
   "source": [
    "Outliers Detection"
   ]
  },
  {
   "cell_type": "code",
   "execution_count": 110,
   "id": "2e5eab30",
   "metadata": {},
   "outputs": [
    {
     "data": {
      "text/html": [
       "<div>\n",
       "<style scoped>\n",
       "    .dataframe tbody tr th:only-of-type {\n",
       "        vertical-align: middle;\n",
       "    }\n",
       "\n",
       "    .dataframe tbody tr th {\n",
       "        vertical-align: top;\n",
       "    }\n",
       "\n",
       "    .dataframe thead th {\n",
       "        text-align: right;\n",
       "    }\n",
       "</style>\n",
       "<table border=\"1\" class=\"dataframe\">\n",
       "  <thead>\n",
       "    <tr style=\"text-align: right;\">\n",
       "      <th></th>\n",
       "      <th>no_of_customers</th>\n",
       "      <th>dairy</th>\n",
       "      <th>rice</th>\n",
       "      <th>wheat</th>\n",
       "      <th>fruits and vegtable</th>\n",
       "      <th>recipe mix</th>\n",
       "      <th>frozen</th>\n",
       "      <th>dry fruits</th>\n",
       "      <th>tea coffee</th>\n",
       "      <th>speices</th>\n",
       "      <th>oil</th>\n",
       "      <th>dates</th>\n",
       "      <th>snacks</th>\n",
       "      <th>chicken</th>\n",
       "      <th>beef</th>\n",
       "      <th>goat</th>\n",
       "      <th>seafood</th>\n",
       "    </tr>\n",
       "  </thead>\n",
       "  <tbody>\n",
       "    <tr>\n",
       "      <th>count</th>\n",
       "      <td>365.000000</td>\n",
       "      <td>365.000000</td>\n",
       "      <td>365.000000</td>\n",
       "      <td>365.000000</td>\n",
       "      <td>365.000000</td>\n",
       "      <td>365.000000</td>\n",
       "      <td>365.000000</td>\n",
       "      <td>365.000000</td>\n",
       "      <td>365.000000</td>\n",
       "      <td>365.000000</td>\n",
       "      <td>365.000000</td>\n",
       "      <td>365.000000</td>\n",
       "      <td>365.000000</td>\n",
       "      <td>365.000000</td>\n",
       "      <td>365.000000</td>\n",
       "      <td>365.000000</td>\n",
       "      <td>365.000000</td>\n",
       "    </tr>\n",
       "    <tr>\n",
       "      <th>mean</th>\n",
       "      <td>9.712329</td>\n",
       "      <td>5.063014</td>\n",
       "      <td>4.106849</td>\n",
       "      <td>0.980822</td>\n",
       "      <td>3.052055</td>\n",
       "      <td>5.032877</td>\n",
       "      <td>4.407713</td>\n",
       "      <td>3.627397</td>\n",
       "      <td>2.463014</td>\n",
       "      <td>4.597796</td>\n",
       "      <td>2.731507</td>\n",
       "      <td>4.258953</td>\n",
       "      <td>3.824658</td>\n",
       "      <td>22.842975</td>\n",
       "      <td>20.257534</td>\n",
       "      <td>22.513736</td>\n",
       "      <td>4.786301</td>\n",
       "    </tr>\n",
       "    <tr>\n",
       "      <th>std</th>\n",
       "      <td>6.773574</td>\n",
       "      <td>3.299830</td>\n",
       "      <td>2.940263</td>\n",
       "      <td>0.836768</td>\n",
       "      <td>1.977907</td>\n",
       "      <td>1.991469</td>\n",
       "      <td>1.113921</td>\n",
       "      <td>2.245463</td>\n",
       "      <td>1.654789</td>\n",
       "      <td>2.831960</td>\n",
       "      <td>1.680273</td>\n",
       "      <td>5.405446</td>\n",
       "      <td>2.670956</td>\n",
       "      <td>2.867998</td>\n",
       "      <td>4.107682</td>\n",
       "      <td>5.307814</td>\n",
       "      <td>3.187946</td>\n",
       "    </tr>\n",
       "    <tr>\n",
       "      <th>min</th>\n",
       "      <td>0.000000</td>\n",
       "      <td>0.000000</td>\n",
       "      <td>0.000000</td>\n",
       "      <td>0.000000</td>\n",
       "      <td>0.000000</td>\n",
       "      <td>2.000000</td>\n",
       "      <td>3.000000</td>\n",
       "      <td>0.000000</td>\n",
       "      <td>0.000000</td>\n",
       "      <td>0.000000</td>\n",
       "      <td>0.000000</td>\n",
       "      <td>1.000000</td>\n",
       "      <td>0.000000</td>\n",
       "      <td>20.000000</td>\n",
       "      <td>15.000000</td>\n",
       "      <td>15.000000</td>\n",
       "      <td>0.000000</td>\n",
       "    </tr>\n",
       "    <tr>\n",
       "      <th>25%</th>\n",
       "      <td>5.000000</td>\n",
       "      <td>2.000000</td>\n",
       "      <td>2.000000</td>\n",
       "      <td>0.000000</td>\n",
       "      <td>1.000000</td>\n",
       "      <td>3.000000</td>\n",
       "      <td>3.000000</td>\n",
       "      <td>2.000000</td>\n",
       "      <td>1.000000</td>\n",
       "      <td>2.000000</td>\n",
       "      <td>1.000000</td>\n",
       "      <td>2.000000</td>\n",
       "      <td>1.000000</td>\n",
       "      <td>21.000000</td>\n",
       "      <td>17.000000</td>\n",
       "      <td>18.000000</td>\n",
       "      <td>2.000000</td>\n",
       "    </tr>\n",
       "    <tr>\n",
       "      <th>50%</th>\n",
       "      <td>8.000000</td>\n",
       "      <td>5.000000</td>\n",
       "      <td>4.000000</td>\n",
       "      <td>1.000000</td>\n",
       "      <td>3.000000</td>\n",
       "      <td>5.000000</td>\n",
       "      <td>4.000000</td>\n",
       "      <td>4.000000</td>\n",
       "      <td>2.000000</td>\n",
       "      <td>5.000000</td>\n",
       "      <td>3.000000</td>\n",
       "      <td>4.000000</td>\n",
       "      <td>4.000000</td>\n",
       "      <td>23.000000</td>\n",
       "      <td>20.000000</td>\n",
       "      <td>22.000000</td>\n",
       "      <td>5.000000</td>\n",
       "    </tr>\n",
       "    <tr>\n",
       "      <th>75%</th>\n",
       "      <td>13.000000</td>\n",
       "      <td>8.000000</td>\n",
       "      <td>6.000000</td>\n",
       "      <td>2.000000</td>\n",
       "      <td>5.000000</td>\n",
       "      <td>7.000000</td>\n",
       "      <td>5.000000</td>\n",
       "      <td>6.000000</td>\n",
       "      <td>4.000000</td>\n",
       "      <td>7.000000</td>\n",
       "      <td>4.000000</td>\n",
       "      <td>6.000000</td>\n",
       "      <td>6.000000</td>\n",
       "      <td>24.000000</td>\n",
       "      <td>23.000000</td>\n",
       "      <td>26.000000</td>\n",
       "      <td>7.000000</td>\n",
       "    </tr>\n",
       "    <tr>\n",
       "      <th>max</th>\n",
       "      <td>66.000000</td>\n",
       "      <td>11.000000</td>\n",
       "      <td>30.000000</td>\n",
       "      <td>2.000000</td>\n",
       "      <td>6.000000</td>\n",
       "      <td>8.000000</td>\n",
       "      <td>6.000000</td>\n",
       "      <td>7.000000</td>\n",
       "      <td>5.000000</td>\n",
       "      <td>9.000000</td>\n",
       "      <td>5.000000</td>\n",
       "      <td>100.000000</td>\n",
       "      <td>8.000000</td>\n",
       "      <td>60.000000</td>\n",
       "      <td>65.000000</td>\n",
       "      <td>61.000000</td>\n",
       "      <td>10.000000</td>\n",
       "    </tr>\n",
       "  </tbody>\n",
       "</table>\n",
       "</div>"
      ],
      "text/plain": [
       "       no_of_customers       dairy        rice       wheat  \\\n",
       "count       365.000000  365.000000  365.000000  365.000000   \n",
       "mean          9.712329    5.063014    4.106849    0.980822   \n",
       "std           6.773574    3.299830    2.940263    0.836768   \n",
       "min           0.000000    0.000000    0.000000    0.000000   \n",
       "25%           5.000000    2.000000    2.000000    0.000000   \n",
       "50%           8.000000    5.000000    4.000000    1.000000   \n",
       "75%          13.000000    8.000000    6.000000    2.000000   \n",
       "max          66.000000   11.000000   30.000000    2.000000   \n",
       "\n",
       "       fruits and vegtable  recipe mix      frozen  dry fruits  tea coffee  \\\n",
       "count           365.000000  365.000000  365.000000  365.000000  365.000000   \n",
       "mean              3.052055    5.032877    4.407713    3.627397    2.463014   \n",
       "std               1.977907    1.991469    1.113921    2.245463    1.654789   \n",
       "min               0.000000    2.000000    3.000000    0.000000    0.000000   \n",
       "25%               1.000000    3.000000    3.000000    2.000000    1.000000   \n",
       "50%               3.000000    5.000000    4.000000    4.000000    2.000000   \n",
       "75%               5.000000    7.000000    5.000000    6.000000    4.000000   \n",
       "max               6.000000    8.000000    6.000000    7.000000    5.000000   \n",
       "\n",
       "          speices         oil       dates      snacks     chicken        beef  \\\n",
       "count  365.000000  365.000000  365.000000  365.000000  365.000000  365.000000   \n",
       "mean     4.597796    2.731507    4.258953    3.824658   22.842975   20.257534   \n",
       "std      2.831960    1.680273    5.405446    2.670956    2.867998    4.107682   \n",
       "min      0.000000    0.000000    1.000000    0.000000   20.000000   15.000000   \n",
       "25%      2.000000    1.000000    2.000000    1.000000   21.000000   17.000000   \n",
       "50%      5.000000    3.000000    4.000000    4.000000   23.000000   20.000000   \n",
       "75%      7.000000    4.000000    6.000000    6.000000   24.000000   23.000000   \n",
       "max      9.000000    5.000000  100.000000    8.000000   60.000000   65.000000   \n",
       "\n",
       "             goat     seafood  \n",
       "count  365.000000  365.000000  \n",
       "mean    22.513736    4.786301  \n",
       "std      5.307814    3.187946  \n",
       "min     15.000000    0.000000  \n",
       "25%     18.000000    2.000000  \n",
       "50%     22.000000    5.000000  \n",
       "75%     26.000000    7.000000  \n",
       "max     61.000000   10.000000  "
      ]
     },
     "execution_count": 110,
     "metadata": {},
     "output_type": "execute_result"
    }
   ],
   "source": [
    "df.describe()"
   ]
  },
  {
   "cell_type": "markdown",
   "id": "2ea12d37",
   "metadata": {},
   "source": [
    "Outlier detection for no_of_customers, rice, dates,chicken,goat,beef\n"
   ]
  },
  {
   "cell_type": "markdown",
   "id": "f5849cb3",
   "metadata": {},
   "source": [
    "writing a function for outlier detection\n"
   ]
  },
  {
   "cell_type": "code",
   "execution_count": 114,
   "id": "23b5f0da",
   "metadata": {},
   "outputs": [
    {
     "name": "stdout",
     "output_type": "stream",
     "text": [
      "number of outliers:7\n",
      "max outlier value: 66\n",
      "min outlier value: 27\n"
     ]
    },
    {
     "data": {
      "text/plain": [
       "92     30\n",
       "95     28\n",
       "99     27\n",
       "100    50\n",
       "121    66\n",
       "181    30\n",
       "357    35\n",
       "Name: no_of_customers, dtype: int64"
      ]
     },
     "execution_count": 114,
     "metadata": {},
     "output_type": "execute_result"
    }
   ],
   "source": [
    "    def find_outliers_IQR(df):\n",
    "\n",
    "   q1=df.quantile(0.25)\n",
    "\n",
    "   q3=df.quantile(0.75)\n",
    "\n",
    "   IQR=q3-q1\n",
    "\n",
    "   outliers = df[((df<(q1-1.5*IQR)) | (df>(q3+1.5*IQR)))]\n",
    "\n",
    "   return outliers\n",
    "\n",
    "\n",
    "outliers = find_outliers_IQR(df['no_of_customers'])\n",
    "\n",
    "print(\"number of outliers:\" + str(len(outliers)))\n",
    "\n",
    "print(\"max outlier value: \"+ str(outliers.max()))\n",
    "\n",
    "print(\"min outlier value: \"+ str(outliers.min()))\n",
    "\n",
    "outliers\n"
   ]
  },
  {
   "cell_type": "code",
   "execution_count": 117,
   "id": "1cf34b33",
   "metadata": {},
   "outputs": [
    {
     "data": {
      "text/plain": [
       "<AxesSubplot:xlabel='no_of_customers'>"
      ]
     },
     "execution_count": 117,
     "metadata": {},
     "output_type": "execute_result"
    },
    {
     "data": {
      "image/png": "[encoded data removed]",
      "text/plain": [
       "<Figure size 640x480 with 1 Axes>"
      ]
     },
     "metadata": {},
     "output_type": "display_data"
    }
   ],
   "source": [
    "sns.boxplot(x = \"no_of_customers\",data = df)"
   ]
  },
  {
   "cell_type": "code",
   "execution_count": 116,
   "id": "47604794",
   "metadata": {},
   "outputs": [
    {
     "name": "stdout",
     "output_type": "stream",
     "text": [
      "number of outliers:1\n",
      "max outlier value: 30\n",
      "min outlier value: 30\n"
     ]
    },
    {
     "data": {
      "text/plain": [
       "181    30\n",
       "Name: rice, dtype: int64"
      ]
     },
     "execution_count": 116,
     "metadata": {},
     "output_type": "execute_result"
    }
   ],
   "source": [
    "outliers = find_outliers_IQR(df['rice'])\n",
    "\n",
    "print(\"number of outliers:\" + str(len(outliers)))\n",
    "\n",
    "print(\"max outlier value: \"+ str(outliers.max()))\n",
    "\n",
    "print(\"min outlier value: \"+ str(outliers.min()))\n",
    "\n",
    "outliers\n"
   ]
  },
  {
   "cell_type": "code",
   "execution_count": 118,
   "id": "0e42c884",
   "metadata": {},
   "outputs": [
    {
     "data": {
      "text/plain": [
       "<AxesSubplot:xlabel='rice'>"
      ]
     },
     "execution_count": 118,
     "metadata": {},
     "output_type": "execute_result"
    },
    {
     "data": {
      "image/png": "[encoded data removed]",
      "text/plain": [
       "<Figure size 640x480 with 1 Axes>"
      ]
     },
     "metadata": {},
     "output_type": "display_data"
    }
   ],
   "source": [
    "sns.boxplot(x = \"rice\",data = df)"
   ]
  },
  {
   "cell_type": "code",
   "execution_count": 119,
   "id": "526b7da6",
   "metadata": {},
   "outputs": [
    {
     "name": "stdout",
     "output_type": "stream",
     "text": [
      "number of outliers:1\n",
      "max outlier value: 100.0\n",
      "min outlier value: 100.0\n"
     ]
    },
    {
     "data": {
      "text/plain": [
       "100    100.0\n",
       "Name: dates, dtype: float64"
      ]
     },
     "execution_count": 119,
     "metadata": {},
     "output_type": "execute_result"
    }
   ],
   "source": [
    "outliers = find_outliers_IQR(df['dates'])\n",
    "\n",
    "print(\"number of outliers:\" + str(len(outliers)))\n",
    "\n",
    "print(\"max outlier value: \"+ str(outliers.max()))\n",
    "\n",
    "print(\"min outlier value: \"+ str(outliers.min()))\n",
    "\n",
    "outliers\n"
   ]
  },
  {
   "cell_type": "code",
   "execution_count": 120,
   "id": "d0fab9c8",
   "metadata": {},
   "outputs": [
    {
     "data": {
      "text/plain": [
       "<AxesSubplot:xlabel='dates'>"
      ]
     },
     "execution_count": 120,
     "metadata": {},
     "output_type": "execute_result"
    },
    {
     "data": {
      "image/png": "[encoded data removed]",
      "text/plain": [
       "<Figure size 640x480 with 1 Axes>"
      ]
     },
     "metadata": {},
     "output_type": "display_data"
    }
   ],
   "source": [
    "sns.boxplot(x = \"dates\",data = df)"
   ]
  },
  {
   "cell_type": "code",
   "execution_count": 122,
   "id": "6db31841",
   "metadata": {},
   "outputs": [
    {
     "name": "stdout",
     "output_type": "stream",
     "text": [
      "number of outliers:3\n",
      "max outlier value: 60.0\n",
      "min outlier value: 32.0\n"
     ]
    },
    {
     "data": {
      "text/plain": [
       "100    45.0\n",
       "121    60.0\n",
       "181    32.0\n",
       "Name: chicken, dtype: float64"
      ]
     },
     "execution_count": 122,
     "metadata": {},
     "output_type": "execute_result"
    }
   ],
   "source": [
    "outliers = find_outliers_IQR(df['chicken'])\n",
    "\n",
    "print(\"number of outliers:\" + str(len(outliers)))\n",
    "\n",
    "print(\"max outlier value: \"+ str(outliers.max()))\n",
    "\n",
    "print(\"min outlier value: \"+ str(outliers.min()))\n",
    "\n",
    "outliers"
   ]
  },
  {
   "cell_type": "code",
   "execution_count": 124,
   "id": "8e0aa105",
   "metadata": {},
   "outputs": [
    {
     "data": {
      "text/plain": [
       "<AxesSubplot:xlabel='chicken'>"
      ]
     },
     "execution_count": 124,
     "metadata": {},
     "output_type": "execute_result"
    },
    {
     "data": {
      "image/png": "[encoded data removed]",
      "text/plain": [
       "<Figure size 640x480 with 1 Axes>"
      ]
     },
     "metadata": {},
     "output_type": "display_data"
    }
   ],
   "source": [
    "sns.boxplot(x = \"chicken\",data = df)"
   ]
  },
  {
   "cell_type": "code",
   "execution_count": 125,
   "id": "c1b29360",
   "metadata": {},
   "outputs": [
    {
     "name": "stdout",
     "output_type": "stream",
     "text": [
      "number of outliers:2\n",
      "max outlier value: 65\n",
      "min outlier value: 45\n"
     ]
    },
    {
     "data": {
      "text/plain": [
       "100    45\n",
       "121    65\n",
       "Name: beef, dtype: int64"
      ]
     },
     "execution_count": 125,
     "metadata": {},
     "output_type": "execute_result"
    }
   ],
   "source": [
    "outliers = find_outliers_IQR(df['beef'])\n",
    "\n",
    "print(\"number of outliers:\" + str(len(outliers)))\n",
    "\n",
    "print(\"max outlier value: \"+ str(outliers.max()))\n",
    "\n",
    "print(\"min outlier value: \"+ str(outliers.min()))\n",
    "\n",
    "outliers"
   ]
  },
  {
   "cell_type": "code",
   "execution_count": 127,
   "id": "9947babd",
   "metadata": {},
   "outputs": [
    {
     "data": {
      "text/plain": [
       "<AxesSubplot:xlabel='beef'>"
      ]
     },
     "execution_count": 127,
     "metadata": {},
     "output_type": "execute_result"
    },
    {
     "data": {
      "image/png": "[encoded data removed]",
      "text/plain": [
       "<Figure size 640x480 with 1 Axes>"
      ]
     },
     "metadata": {},
     "output_type": "display_data"
    }
   ],
   "source": [
    "sns.boxplot(x = \"beef\",data = df)"
   ]
  },
  {
   "cell_type": "code",
   "execution_count": 128,
   "id": "6d4efe17",
   "metadata": {},
   "outputs": [
    {
     "name": "stdout",
     "output_type": "stream",
     "text": [
      "number of outliers:2\n",
      "max outlier value: 61.0\n",
      "min outlier value: 50.0\n"
     ]
    },
    {
     "data": {
      "text/plain": [
       "100    50.0\n",
       "121    61.0\n",
       "Name: goat, dtype: float64"
      ]
     },
     "execution_count": 128,
     "metadata": {},
     "output_type": "execute_result"
    }
   ],
   "source": [
    "outliers = find_outliers_IQR(df['goat'])\n",
    "\n",
    "print(\"number of outliers:\" + str(len(outliers)))\n",
    "\n",
    "print(\"max outlier value: \"+ str(outliers.max()))\n",
    "\n",
    "print(\"min outlier value: \"+ str(outliers.min()))\n",
    "\n",
    "outliers"
   ]
  },
  {
   "cell_type": "code",
   "execution_count": 129,
   "id": "af95b076",
   "metadata": {},
   "outputs": [
    {
     "data": {
      "text/plain": [
       "<AxesSubplot:xlabel='goat'>"
      ]
     },
     "execution_count": 129,
     "metadata": {},
     "output_type": "execute_result"
    },
    {
     "data": {
      "image/png": "[encoded data removed]",
      "text/plain": [
       "<Figure size 640x480 with 1 Axes>"
      ]
     },
     "metadata": {},
     "output_type": "display_data"
    }
   ],
   "source": [
    "sns.boxplot(x = \"goat\",data = df)"
   ]
  },
  {
   "cell_type": "markdown",
   "id": "910bb13b",
   "metadata": {},
   "source": [
    "clearly these columns have outliers. It shows on some days people visit the store and purshase more of these items. "
   ]
  },
  {
   "cell_type": "markdown",
   "id": "9de993ff",
   "metadata": {},
   "source": [
    "Finding the days which have these outliers"
   ]
  },
  {
   "cell_type": "code",
   "execution_count": 132,
   "id": "c73f5d92",
   "metadata": {},
   "outputs": [
    {
     "data": {
      "text/html": [
       "<div>\n",
       "<style scoped>\n",
       "    .dataframe tbody tr th:only-of-type {\n",
       "        vertical-align: middle;\n",
       "    }\n",
       "\n",
       "    .dataframe tbody tr th {\n",
       "        vertical-align: top;\n",
       "    }\n",
       "\n",
       "    .dataframe thead th {\n",
       "        text-align: right;\n",
       "    }\n",
       "</style>\n",
       "<table border=\"1\" class=\"dataframe\">\n",
       "  <thead>\n",
       "    <tr style=\"text-align: right;\">\n",
       "      <th></th>\n",
       "      <th>date</th>\n",
       "      <th>dayOfWeek</th>\n",
       "      <th>no_of_customers</th>\n",
       "      <th>dairy</th>\n",
       "      <th>rice</th>\n",
       "      <th>wheat</th>\n",
       "      <th>fruits and vegtable</th>\n",
       "      <th>recipe mix</th>\n",
       "      <th>frozen</th>\n",
       "      <th>dry fruits</th>\n",
       "      <th>tea coffee</th>\n",
       "      <th>speices</th>\n",
       "      <th>oil</th>\n",
       "      <th>dates</th>\n",
       "      <th>snacks</th>\n",
       "      <th>chicken</th>\n",
       "      <th>beef</th>\n",
       "      <th>goat</th>\n",
       "      <th>seafood</th>\n",
       "    </tr>\n",
       "  </thead>\n",
       "  <tbody>\n",
       "    <tr>\n",
       "      <th>92</th>\n",
       "      <td>03-Apr</td>\n",
       "      <td>SUN</td>\n",
       "      <td>30</td>\n",
       "      <td>5</td>\n",
       "      <td>8</td>\n",
       "      <td>2</td>\n",
       "      <td>0</td>\n",
       "      <td>4</td>\n",
       "      <td>3.0</td>\n",
       "      <td>7</td>\n",
       "      <td>1</td>\n",
       "      <td>2.0</td>\n",
       "      <td>1</td>\n",
       "      <td>3.0</td>\n",
       "      <td>4</td>\n",
       "      <td>23.0</td>\n",
       "      <td>22</td>\n",
       "      <td>30.0</td>\n",
       "      <td>2</td>\n",
       "    </tr>\n",
       "    <tr>\n",
       "      <th>95</th>\n",
       "      <td>06-Apr</td>\n",
       "      <td>WED</td>\n",
       "      <td>28</td>\n",
       "      <td>7</td>\n",
       "      <td>7</td>\n",
       "      <td>0</td>\n",
       "      <td>1</td>\n",
       "      <td>8</td>\n",
       "      <td>5.0</td>\n",
       "      <td>1</td>\n",
       "      <td>2</td>\n",
       "      <td>4.0</td>\n",
       "      <td>4</td>\n",
       "      <td>5.0</td>\n",
       "      <td>0</td>\n",
       "      <td>24.0</td>\n",
       "      <td>23</td>\n",
       "      <td>19.0</td>\n",
       "      <td>2</td>\n",
       "    </tr>\n",
       "    <tr>\n",
       "      <th>99</th>\n",
       "      <td>10-Apr</td>\n",
       "      <td>SUN</td>\n",
       "      <td>27</td>\n",
       "      <td>7</td>\n",
       "      <td>0</td>\n",
       "      <td>0</td>\n",
       "      <td>3</td>\n",
       "      <td>7</td>\n",
       "      <td>3.0</td>\n",
       "      <td>1</td>\n",
       "      <td>0</td>\n",
       "      <td>8.0</td>\n",
       "      <td>3</td>\n",
       "      <td>3.0</td>\n",
       "      <td>2</td>\n",
       "      <td>23.0</td>\n",
       "      <td>19</td>\n",
       "      <td>22.0</td>\n",
       "      <td>2</td>\n",
       "    </tr>\n",
       "    <tr>\n",
       "      <th>100</th>\n",
       "      <td>11-Apr</td>\n",
       "      <td>MON</td>\n",
       "      <td>50</td>\n",
       "      <td>5</td>\n",
       "      <td>4</td>\n",
       "      <td>0</td>\n",
       "      <td>2</td>\n",
       "      <td>2</td>\n",
       "      <td>3.0</td>\n",
       "      <td>6</td>\n",
       "      <td>4</td>\n",
       "      <td>3.0</td>\n",
       "      <td>2</td>\n",
       "      <td>100.0</td>\n",
       "      <td>6</td>\n",
       "      <td>45.0</td>\n",
       "      <td>45</td>\n",
       "      <td>50.0</td>\n",
       "      <td>3</td>\n",
       "    </tr>\n",
       "    <tr>\n",
       "      <th>121</th>\n",
       "      <td>02-May</td>\n",
       "      <td>MON</td>\n",
       "      <td>66</td>\n",
       "      <td>8</td>\n",
       "      <td>5</td>\n",
       "      <td>2</td>\n",
       "      <td>5</td>\n",
       "      <td>2</td>\n",
       "      <td>6.0</td>\n",
       "      <td>2</td>\n",
       "      <td>1</td>\n",
       "      <td>4.0</td>\n",
       "      <td>2</td>\n",
       "      <td>3.0</td>\n",
       "      <td>7</td>\n",
       "      <td>60.0</td>\n",
       "      <td>65</td>\n",
       "      <td>61.0</td>\n",
       "      <td>7</td>\n",
       "    </tr>\n",
       "    <tr>\n",
       "      <th>181</th>\n",
       "      <td>01-Jul</td>\n",
       "      <td>FRI</td>\n",
       "      <td>30</td>\n",
       "      <td>11</td>\n",
       "      <td>30</td>\n",
       "      <td>2</td>\n",
       "      <td>3</td>\n",
       "      <td>4</td>\n",
       "      <td>3.0</td>\n",
       "      <td>2</td>\n",
       "      <td>3</td>\n",
       "      <td>5.0</td>\n",
       "      <td>2</td>\n",
       "      <td>5.0</td>\n",
       "      <td>1</td>\n",
       "      <td>32.0</td>\n",
       "      <td>30</td>\n",
       "      <td>35.0</td>\n",
       "      <td>7</td>\n",
       "    </tr>\n",
       "    <tr>\n",
       "      <th>357</th>\n",
       "      <td>24-Dec</td>\n",
       "      <td>SAT</td>\n",
       "      <td>35</td>\n",
       "      <td>5</td>\n",
       "      <td>2</td>\n",
       "      <td>0</td>\n",
       "      <td>3</td>\n",
       "      <td>8</td>\n",
       "      <td>3.0</td>\n",
       "      <td>0</td>\n",
       "      <td>3</td>\n",
       "      <td>9.0</td>\n",
       "      <td>3</td>\n",
       "      <td>4.0</td>\n",
       "      <td>6</td>\n",
       "      <td>20.0</td>\n",
       "      <td>20</td>\n",
       "      <td>29.0</td>\n",
       "      <td>6</td>\n",
       "    </tr>\n",
       "  </tbody>\n",
       "</table>\n",
       "</div>"
      ],
      "text/plain": [
       "       date dayOfWeek  no_of_customers  dairy  rice  wheat  \\\n",
       "92   03-Apr       SUN               30      5     8      2   \n",
       "95   06-Apr       WED               28      7     7      0   \n",
       "99   10-Apr       SUN               27      7     0      0   \n",
       "100  11-Apr       MON               50      5     4      0   \n",
       "121  02-May       MON               66      8     5      2   \n",
       "181  01-Jul       FRI               30     11    30      2   \n",
       "357  24-Dec       SAT               35      5     2      0   \n",
       "\n",
       "     fruits and vegtable  recipe mix  frozen  dry fruits  tea coffee  speices  \\\n",
       "92                     0           4     3.0           7           1      2.0   \n",
       "95                     1           8     5.0           1           2      4.0   \n",
       "99                     3           7     3.0           1           0      8.0   \n",
       "100                    2           2     3.0           6           4      3.0   \n",
       "121                    5           2     6.0           2           1      4.0   \n",
       "181                    3           4     3.0           2           3      5.0   \n",
       "357                    3           8     3.0           0           3      9.0   \n",
       "\n",
       "     oil  dates  snacks  chicken  beef  goat  seafood  \n",
       "92     1    3.0       4     23.0    22  30.0        2  \n",
       "95     4    5.0       0     24.0    23  19.0        2  \n",
       "99     3    3.0       2     23.0    19  22.0        2  \n",
       "100    2  100.0       6     45.0    45  50.0        3  \n",
       "121    2    3.0       7     60.0    65  61.0        7  \n",
       "181    2    5.0       1     32.0    30  35.0        7  \n",
       "357    3    4.0       6     20.0    20  29.0        6  "
      ]
     },
     "execution_count": 132,
     "metadata": {},
     "output_type": "execute_result"
    }
   ],
   "source": [
    "df[df['no_of_customers'].isin([30,28,27,50,66,30,35])]\n"
   ]
  },
  {
   "cell_type": "markdown",
   "id": "6b73074f",
   "metadata": {},
   "source": [
    "These are the dates in which the store is visited more compared to rest of the days of the year. These dates fall on religious festivals, and right before public holidays .Thats when people tend to buy more."
   ]
  },
  {
   "cell_type": "code",
   "execution_count": 142,
   "id": "1ffaee64",
   "metadata": {},
   "outputs": [],
   "source": [
    "df_groupby_day = df.groupby('dayOfWeek')['no_of_customers'].mean()"
   ]
  },
  {
   "cell_type": "code",
   "execution_count": 143,
   "id": "414ede46",
   "metadata": {},
   "outputs": [
    {
     "data": {
      "text/plain": [
       "dayOfWeek\n",
       "FRI    17.538462\n",
       "MON     7.500000\n",
       "SAT    13.339623\n",
       "SUN     3.153846\n",
       "THU    10.730769\n",
       "TUE     7.692308\n",
       "WED     7.961538\n",
       "Name: no_of_customers, dtype: float64"
      ]
     },
     "execution_count": 143,
     "metadata": {},
     "output_type": "execute_result"
    }
   ],
   "source": [
    "df_groupby_day"
   ]
  },
  {
   "cell_type": "code",
   "execution_count": 148,
   "id": "ace2f4d6",
   "metadata": {},
   "outputs": [
    {
     "data": {
      "text/plain": [
       "<AxesSubplot:xlabel='dayOfWeek', ylabel='no_of_customers'>"
      ]
     },
     "execution_count": 148,
     "metadata": {},
     "output_type": "execute_result"
    },
    {
     "data": {
      "image/png": "[encoded data removed]",
      "text/plain": [
       "<Figure size 640x480 with 1 Axes>"
      ]
     },
     "metadata": {},
     "output_type": "display_data"
    }
   ],
   "source": [
    "sns.barplot(x = 'dayOfWeek',y = 'no_of_customers',data = df)"
   ]
  },
  {
   "cell_type": "markdown",
   "id": "d703c2c7",
   "metadata": {},
   "source": [
    "Friday is when the store gets max no of people followed by saturday. Sunday gets the least no of people"
   ]
  },
  {
   "cell_type": "code",
   "execution_count": 150,
   "id": "8c460a74",
   "metadata": {},
   "outputs": [
    {
     "data": {
      "text/plain": [
       "1848"
      ]
     },
     "execution_count": 150,
     "metadata": {},
     "output_type": "execute_result"
    }
   ],
   "source": [
    "df['dairy'].sum()"
   ]
  },
  {
   "cell_type": "code",
   "execution_count": 151,
   "id": "64bf1705",
   "metadata": {},
   "outputs": [
    {
     "data": {
      "text/plain": [
       "8337.685950413223"
      ]
     },
     "execution_count": 151,
     "metadata": {},
     "output_type": "execute_result"
    }
   ],
   "source": [
    "df['chicken'].sum()"
   ]
  },
  {
   "cell_type": "code",
   "execution_count": 225,
   "id": "69987b31",
   "metadata": {},
   "outputs": [
    {
     "name": "stderr",
     "output_type": "stream",
     "text": [
      "C:\\Users\\16474\\AppData\\Local\\Temp\\ipykernel_6504\\3181707154.py:1: FutureWarning: Indexing with multiple keys (implicitly converted to a tuple of keys) will be deprecated, use a list instead.\n",
      "  best_selling = df.groupby('dayOfWeek')['dairy','rice','dates','chicken','goat','beef','frozen','snacks','oil','seafood','speices','wheat'].mean()\n"
     ]
    }
   ],
   "source": [
    "best_selling = df.groupby('dayOfWeek')['dairy','rice','dates','chicken','goat','beef','frozen','snacks','oil','seafood','speices','wheat'].mean()"
   ]
  },
  {
   "cell_type": "code",
   "execution_count": 226,
   "id": "fd4f26ab",
   "metadata": {},
   "outputs": [
    {
     "data": {
      "text/html": [
       "<div>\n",
       "<style scoped>\n",
       "    .dataframe tbody tr th:only-of-type {\n",
       "        vertical-align: middle;\n",
       "    }\n",
       "\n",
       "    .dataframe tbody tr th {\n",
       "        vertical-align: top;\n",
       "    }\n",
       "\n",
       "    .dataframe thead th {\n",
       "        text-align: right;\n",
       "    }\n",
       "</style>\n",
       "<table border=\"1\" class=\"dataframe\">\n",
       "  <thead>\n",
       "    <tr style=\"text-align: right;\">\n",
       "      <th></th>\n",
       "      <th>dairy</th>\n",
       "      <th>rice</th>\n",
       "      <th>dates</th>\n",
       "      <th>chicken</th>\n",
       "      <th>goat</th>\n",
       "      <th>beef</th>\n",
       "      <th>frozen</th>\n",
       "      <th>snacks</th>\n",
       "      <th>oil</th>\n",
       "      <th>seafood</th>\n",
       "      <th>speices</th>\n",
       "      <th>wheat</th>\n",
       "    </tr>\n",
       "    <tr>\n",
       "      <th>dayOfWeek</th>\n",
       "      <th></th>\n",
       "      <th></th>\n",
       "      <th></th>\n",
       "      <th></th>\n",
       "      <th></th>\n",
       "      <th></th>\n",
       "      <th></th>\n",
       "      <th></th>\n",
       "      <th></th>\n",
       "      <th></th>\n",
       "      <th></th>\n",
       "      <th></th>\n",
       "    </tr>\n",
       "  </thead>\n",
       "  <tbody>\n",
       "    <tr>\n",
       "      <th>FRI</th>\n",
       "      <td>4.980769</td>\n",
       "      <td>4.211538</td>\n",
       "      <td>4.173077</td>\n",
       "      <td>23.019231</td>\n",
       "      <td>22.807692</td>\n",
       "      <td>20.115385</td>\n",
       "      <td>4.423077</td>\n",
       "      <td>4.403846</td>\n",
       "      <td>3.057692</td>\n",
       "      <td>4.846154</td>\n",
       "      <td>5.000000</td>\n",
       "      <td>0.692308</td>\n",
       "    </tr>\n",
       "    <tr>\n",
       "      <th>MON</th>\n",
       "      <td>5.384615</td>\n",
       "      <td>4.057692</td>\n",
       "      <td>5.788462</td>\n",
       "      <td>23.960784</td>\n",
       "      <td>23.980769</td>\n",
       "      <td>20.846154</td>\n",
       "      <td>4.365385</td>\n",
       "      <td>3.576923</td>\n",
       "      <td>2.730769</td>\n",
       "      <td>5.019231</td>\n",
       "      <td>4.653846</td>\n",
       "      <td>0.980769</td>\n",
       "    </tr>\n",
       "    <tr>\n",
       "      <th>SAT</th>\n",
       "      <td>5.259259</td>\n",
       "      <td>3.611111</td>\n",
       "      <td>3.574074</td>\n",
       "      <td>22.259259</td>\n",
       "      <td>23.370370</td>\n",
       "      <td>19.574074</td>\n",
       "      <td>4.018868</td>\n",
       "      <td>4.481481</td>\n",
       "      <td>2.740741</td>\n",
       "      <td>4.574074</td>\n",
       "      <td>5.018868</td>\n",
       "      <td>1.000000</td>\n",
       "    </tr>\n",
       "    <tr>\n",
       "      <th>SUN</th>\n",
       "      <td>4.903846</td>\n",
       "      <td>4.461538</td>\n",
       "      <td>4.057692</td>\n",
       "      <td>22.647059</td>\n",
       "      <td>21.923077</td>\n",
       "      <td>20.423077</td>\n",
       "      <td>4.557692</td>\n",
       "      <td>4.153846</td>\n",
       "      <td>2.884615</td>\n",
       "      <td>4.788462</td>\n",
       "      <td>4.326923</td>\n",
       "      <td>1.134615</td>\n",
       "    </tr>\n",
       "    <tr>\n",
       "      <th>THU</th>\n",
       "      <td>5.641509</td>\n",
       "      <td>4.773585</td>\n",
       "      <td>4.019231</td>\n",
       "      <td>22.113208</td>\n",
       "      <td>22.283019</td>\n",
       "      <td>20.245283</td>\n",
       "      <td>4.698113</td>\n",
       "      <td>3.075472</td>\n",
       "      <td>2.226415</td>\n",
       "      <td>4.301887</td>\n",
       "      <td>4.716981</td>\n",
       "      <td>0.962264</td>\n",
       "    </tr>\n",
       "    <tr>\n",
       "      <th>TUE</th>\n",
       "      <td>4.442308</td>\n",
       "      <td>3.711538</td>\n",
       "      <td>4.230769</td>\n",
       "      <td>22.711538</td>\n",
       "      <td>21.784314</td>\n",
       "      <td>20.596154</td>\n",
       "      <td>4.352941</td>\n",
       "      <td>3.750000</td>\n",
       "      <td>2.461538</td>\n",
       "      <td>4.692308</td>\n",
       "      <td>3.711538</td>\n",
       "      <td>1.115385</td>\n",
       "    </tr>\n",
       "    <tr>\n",
       "      <th>WED</th>\n",
       "      <td>4.730769</td>\n",
       "      <td>3.961538</td>\n",
       "      <td>3.980392</td>\n",
       "      <td>23.134615</td>\n",
       "      <td>21.480769</td>\n",
       "      <td>20.115385</td>\n",
       "      <td>4.423077</td>\n",
       "      <td>3.288462</td>\n",
       "      <td>2.980769</td>\n",
       "      <td>5.230769</td>\n",
       "      <td>4.807692</td>\n",
       "      <td>0.942308</td>\n",
       "    </tr>\n",
       "  </tbody>\n",
       "</table>\n",
       "</div>"
      ],
      "text/plain": [
       "              dairy      rice     dates    chicken       goat       beef  \\\n",
       "dayOfWeek                                                                  \n",
       "FRI        4.980769  4.211538  4.173077  23.019231  22.807692  20.115385   \n",
       "MON        5.384615  4.057692  5.788462  23.960784  23.980769  20.846154   \n",
       "SAT        5.259259  3.611111  3.574074  22.259259  23.370370  19.574074   \n",
       "SUN        4.903846  4.461538  4.057692  22.647059  21.923077  20.423077   \n",
       "THU        5.641509  4.773585  4.019231  22.113208  22.283019  20.245283   \n",
       "TUE        4.442308  3.711538  4.230769  22.711538  21.784314  20.596154   \n",
       "WED        4.730769  3.961538  3.980392  23.134615  21.480769  20.115385   \n",
       "\n",
       "             frozen    snacks       oil   seafood   speices     wheat  \n",
       "dayOfWeek                                                              \n",
       "FRI        4.423077  4.403846  3.057692  4.846154  5.000000  0.692308  \n",
       "MON        4.365385  3.576923  2.730769  5.019231  4.653846  0.980769  \n",
       "SAT        4.018868  4.481481  2.740741  4.574074  5.018868  1.000000  \n",
       "SUN        4.557692  4.153846  2.884615  4.788462  4.326923  1.134615  \n",
       "THU        4.698113  3.075472  2.226415  4.301887  4.716981  0.962264  \n",
       "TUE        4.352941  3.750000  2.461538  4.692308  3.711538  1.115385  \n",
       "WED        4.423077  3.288462  2.980769  5.230769  4.807692  0.942308  "
      ]
     },
     "execution_count": 226,
     "metadata": {},
     "output_type": "execute_result"
    }
   ],
   "source": [
    "best_selling"
   ]
  },
  {
   "cell_type": "markdown",
   "id": "61984305",
   "metadata": {},
   "source": [
    "### For this supermarket people come to buy meat more compared to other categories of food. "
   ]
  },
  {
   "cell_type": "code",
   "execution_count": 170,
   "id": "a3c744e8",
   "metadata": {},
   "outputs": [
    {
     "data": {
      "text/plain": [
       "str"
      ]
     },
     "execution_count": 170,
     "metadata": {},
     "output_type": "execute_result"
    }
   ],
   "source": [
    "type(df['date'][0])"
   ]
  },
  {
   "cell_type": "code",
   "execution_count": 179,
   "id": "dc0ae60f",
   "metadata": {},
   "outputs": [
    {
     "data": {
      "text/plain": [
       "0      01-Jan\n",
       "1      02-Jan\n",
       "2      03-Jan\n",
       "3      04-Jan\n",
       "4      05-Jan\n",
       "        ...  \n",
       "362    29-Dec\n",
       "363    30-Dec\n",
       "364    31-Dec\n",
       "365    22-Dec\n",
       "366    24-Dec\n",
       "Name: date, Length: 367, dtype: object"
      ]
     },
     "execution_count": 179,
     "metadata": {},
     "output_type": "execute_result"
    }
   ],
   "source": [
    "df['date']"
   ]
  },
  {
   "cell_type": "code",
   "execution_count": 180,
   "id": "ef5caf7f",
   "metadata": {},
   "outputs": [],
   "source": [
    "from datetime import datetime\n",
    "\n"
   ]
  },
  {
   "cell_type": "code",
   "execution_count": 184,
   "id": "aedadefb",
   "metadata": {},
   "outputs": [],
   "source": [
    "\n",
    "df['date'] = df['date'].apply(lambda x : datetime.strptime(x, '%d-%b').strftime('%d/%m'))\n"
   ]
  },
  {
   "cell_type": "code",
   "execution_count": 201,
   "id": "c3a5b11e",
   "metadata": {},
   "outputs": [],
   "source": [
    "df['month'] = df['date'].apply(lambda x : datetime.strptime(x, '%d/%m').strftime('%m'))\n"
   ]
  },
  {
   "cell_type": "code",
   "execution_count": 202,
   "id": "f73bdc64",
   "metadata": {},
   "outputs": [
    {
     "data": {
      "text/plain": [
       "0      01\n",
       "1      01\n",
       "2      01\n",
       "3      01\n",
       "4      01\n",
       "       ..\n",
       "362    12\n",
       "363    12\n",
       "364    12\n",
       "365    12\n",
       "366    12\n",
       "Name: month, Length: 367, dtype: object"
      ]
     },
     "execution_count": 202,
     "metadata": {},
     "output_type": "execute_result"
    }
   ],
   "source": [
    "df['month']"
   ]
  },
  {
   "cell_type": "code",
   "execution_count": 203,
   "id": "a466a8ae",
   "metadata": {},
   "outputs": [],
   "source": [
    "df_pattern = df.groupby('month').sum()['no_of_customers'].reset_index()"
   ]
  },
  {
   "cell_type": "code",
   "execution_count": 204,
   "id": "37241620",
   "metadata": {},
   "outputs": [
    {
     "data": {
      "text/html": [
       "<div>\n",
       "<style scoped>\n",
       "    .dataframe tbody tr th:only-of-type {\n",
       "        vertical-align: middle;\n",
       "    }\n",
       "\n",
       "    .dataframe tbody tr th {\n",
       "        vertical-align: top;\n",
       "    }\n",
       "\n",
       "    .dataframe thead th {\n",
       "        text-align: right;\n",
       "    }\n",
       "</style>\n",
       "<table border=\"1\" class=\"dataframe\">\n",
       "  <thead>\n",
       "    <tr style=\"text-align: right;\">\n",
       "      <th></th>\n",
       "      <th>month</th>\n",
       "      <th>no_of_customers</th>\n",
       "    </tr>\n",
       "  </thead>\n",
       "  <tbody>\n",
       "    <tr>\n",
       "      <th>0</th>\n",
       "      <td>01</td>\n",
       "      <td>267</td>\n",
       "    </tr>\n",
       "    <tr>\n",
       "      <th>1</th>\n",
       "      <td>02</td>\n",
       "      <td>268</td>\n",
       "    </tr>\n",
       "    <tr>\n",
       "      <th>2</th>\n",
       "      <td>03</td>\n",
       "      <td>261</td>\n",
       "    </tr>\n",
       "    <tr>\n",
       "      <th>3</th>\n",
       "      <td>04</td>\n",
       "      <td>458</td>\n",
       "    </tr>\n",
       "    <tr>\n",
       "      <th>4</th>\n",
       "      <td>05</td>\n",
       "      <td>335</td>\n",
       "    </tr>\n",
       "    <tr>\n",
       "      <th>5</th>\n",
       "      <td>06</td>\n",
       "      <td>270</td>\n",
       "    </tr>\n",
       "    <tr>\n",
       "      <th>6</th>\n",
       "      <td>07</td>\n",
       "      <td>302</td>\n",
       "    </tr>\n",
       "    <tr>\n",
       "      <th>7</th>\n",
       "      <td>08</td>\n",
       "      <td>268</td>\n",
       "    </tr>\n",
       "    <tr>\n",
       "      <th>8</th>\n",
       "      <td>09</td>\n",
       "      <td>259</td>\n",
       "    </tr>\n",
       "    <tr>\n",
       "      <th>9</th>\n",
       "      <td>10</td>\n",
       "      <td>279</td>\n",
       "    </tr>\n",
       "    <tr>\n",
       "      <th>10</th>\n",
       "      <td>11</td>\n",
       "      <td>267</td>\n",
       "    </tr>\n",
       "    <tr>\n",
       "      <th>11</th>\n",
       "      <td>12</td>\n",
       "      <td>337</td>\n",
       "    </tr>\n",
       "  </tbody>\n",
       "</table>\n",
       "</div>"
      ],
      "text/plain": [
       "   month  no_of_customers\n",
       "0     01              267\n",
       "1     02              268\n",
       "2     03              261\n",
       "3     04              458\n",
       "4     05              335\n",
       "5     06              270\n",
       "6     07              302\n",
       "7     08              268\n",
       "8     09              259\n",
       "9     10              279\n",
       "10    11              267\n",
       "11    12              337"
      ]
     },
     "execution_count": 204,
     "metadata": {},
     "output_type": "execute_result"
    }
   ],
   "source": [
    "df_pattern"
   ]
  },
  {
   "cell_type": "code",
   "execution_count": 205,
   "id": "14e1deeb",
   "metadata": {},
   "outputs": [
    {
     "data": {
      "text/plain": [
       "[<matplotlib.lines.Line2D at 0x2710f538a60>]"
      ]
     },
     "execution_count": 205,
     "metadata": {},
     "output_type": "execute_result"
    },
    {
     "data": {
      "image/png": "[encoded data removed]",
      "text/plain": [
       "<Figure size 1500x600 with 1 Axes>"
      ]
     },
     "metadata": {},
     "output_type": "display_data"
    }
   ],
   "source": [
    "plt.figure(figsize=(15,6))\n",
    "plt.plot(df_pattern['month'],df_pattern['no_of_customers'])\n"
   ]
  },
  {
   "cell_type": "code",
   "execution_count": 199,
   "id": "4af9b714",
   "metadata": {},
   "outputs": [
    {
     "data": {
      "text/html": [
       "<div>\n",
       "<style scoped>\n",
       "    .dataframe tbody tr th:only-of-type {\n",
       "        vertical-align: middle;\n",
       "    }\n",
       "\n",
       "    .dataframe tbody tr th {\n",
       "        vertical-align: top;\n",
       "    }\n",
       "\n",
       "    .dataframe thead th {\n",
       "        text-align: right;\n",
       "    }\n",
       "</style>\n",
       "<table border=\"1\" class=\"dataframe\">\n",
       "  <thead>\n",
       "    <tr style=\"text-align: right;\">\n",
       "      <th></th>\n",
       "      <th>date</th>\n",
       "      <th>dayOfWeek</th>\n",
       "      <th>no_of_customers</th>\n",
       "      <th>dairy</th>\n",
       "      <th>rice</th>\n",
       "      <th>wheat</th>\n",
       "      <th>fruits and vegtable</th>\n",
       "      <th>recipe mix</th>\n",
       "      <th>frozen</th>\n",
       "      <th>dry fruits</th>\n",
       "      <th>tea coffee</th>\n",
       "      <th>speices</th>\n",
       "      <th>oil</th>\n",
       "      <th>dates</th>\n",
       "      <th>snacks</th>\n",
       "      <th>chicken</th>\n",
       "      <th>beef</th>\n",
       "      <th>goat</th>\n",
       "      <th>seafood</th>\n",
       "    </tr>\n",
       "  </thead>\n",
       "  <tbody>\n",
       "    <tr>\n",
       "      <th>121</th>\n",
       "      <td>02/05</td>\n",
       "      <td>MON</td>\n",
       "      <td>66</td>\n",
       "      <td>8</td>\n",
       "      <td>5</td>\n",
       "      <td>2</td>\n",
       "      <td>5</td>\n",
       "      <td>2</td>\n",
       "      <td>6.0</td>\n",
       "      <td>2</td>\n",
       "      <td>1</td>\n",
       "      <td>4.0</td>\n",
       "      <td>2</td>\n",
       "      <td>3.0</td>\n",
       "      <td>7</td>\n",
       "      <td>60.0</td>\n",
       "      <td>65</td>\n",
       "      <td>61.0</td>\n",
       "      <td>7</td>\n",
       "    </tr>\n",
       "  </tbody>\n",
       "</table>\n",
       "</div>"
      ],
      "text/plain": [
       "      date dayOfWeek  no_of_customers  dairy  rice  wheat  \\\n",
       "121  02/05       MON               66      8     5      2   \n",
       "\n",
       "     fruits and vegtable  recipe mix  frozen  dry fruits  tea coffee  speices  \\\n",
       "121                    5           2     6.0           2           1      4.0   \n",
       "\n",
       "     oil  dates  snacks  chicken  beef  goat  seafood  \n",
       "121    2    3.0       7     60.0    65  61.0        7  "
      ]
     },
     "execution_count": 199,
     "metadata": {},
     "output_type": "execute_result"
    }
   ],
   "source": [
    "df[df['no_of_customers'] == df['no_of_customers'].max()]"
   ]
  },
  {
   "cell_type": "code",
   "execution_count": null,
   "id": "f67781ad",
   "metadata": {},
   "outputs": [],
   "source": [
    "sns.barplot(x = 'sex',y = 'total_bill',data = tips)"
   ]
  },
  {
   "cell_type": "code",
   "execution_count": 234,
   "id": "e50dcef0",
   "metadata": {},
   "outputs": [],
   "source": [
    "pivot_df = pd.pivot_table(df,values = ['goat','chicken','beef','rice','dairy'],index = ['dayOfWeek'],\n",
    "               aggfunc='mean').reset_index()"
   ]
  },
  {
   "cell_type": "code",
   "execution_count": null,
   "id": "d94f385c",
   "metadata": {},
   "outputs": [],
   "source": []
  },
  {
   "cell_type": "code",
   "execution_count": 235,
   "id": "df23783d",
   "metadata": {},
   "outputs": [
    {
     "data": {
      "text/html": [
       "<div>\n",
       "<style scoped>\n",
       "    .dataframe tbody tr th:only-of-type {\n",
       "        vertical-align: middle;\n",
       "    }\n",
       "\n",
       "    .dataframe tbody tr th {\n",
       "        vertical-align: top;\n",
       "    }\n",
       "\n",
       "    .dataframe thead th {\n",
       "        text-align: right;\n",
       "    }\n",
       "</style>\n",
       "<table border=\"1\" class=\"dataframe\">\n",
       "  <thead>\n",
       "    <tr style=\"text-align: right;\">\n",
       "      <th></th>\n",
       "      <th>dayOfWeek</th>\n",
       "      <th>beef</th>\n",
       "      <th>chicken</th>\n",
       "      <th>dairy</th>\n",
       "      <th>goat</th>\n",
       "      <th>rice</th>\n",
       "    </tr>\n",
       "  </thead>\n",
       "  <tbody>\n",
       "    <tr>\n",
       "      <th>0</th>\n",
       "      <td>FRI</td>\n",
       "      <td>20.115385</td>\n",
       "      <td>23.019231</td>\n",
       "      <td>4.980769</td>\n",
       "      <td>22.807692</td>\n",
       "      <td>4.211538</td>\n",
       "    </tr>\n",
       "    <tr>\n",
       "      <th>1</th>\n",
       "      <td>MON</td>\n",
       "      <td>20.846154</td>\n",
       "      <td>23.960784</td>\n",
       "      <td>5.384615</td>\n",
       "      <td>23.980769</td>\n",
       "      <td>4.057692</td>\n",
       "    </tr>\n",
       "    <tr>\n",
       "      <th>2</th>\n",
       "      <td>SAT</td>\n",
       "      <td>19.574074</td>\n",
       "      <td>22.259259</td>\n",
       "      <td>5.259259</td>\n",
       "      <td>23.370370</td>\n",
       "      <td>3.611111</td>\n",
       "    </tr>\n",
       "    <tr>\n",
       "      <th>3</th>\n",
       "      <td>SUN</td>\n",
       "      <td>20.423077</td>\n",
       "      <td>22.647059</td>\n",
       "      <td>4.903846</td>\n",
       "      <td>21.923077</td>\n",
       "      <td>4.461538</td>\n",
       "    </tr>\n",
       "    <tr>\n",
       "      <th>4</th>\n",
       "      <td>THU</td>\n",
       "      <td>20.245283</td>\n",
       "      <td>22.113208</td>\n",
       "      <td>5.641509</td>\n",
       "      <td>22.283019</td>\n",
       "      <td>4.773585</td>\n",
       "    </tr>\n",
       "    <tr>\n",
       "      <th>5</th>\n",
       "      <td>TUE</td>\n",
       "      <td>20.596154</td>\n",
       "      <td>22.711538</td>\n",
       "      <td>4.442308</td>\n",
       "      <td>21.784314</td>\n",
       "      <td>3.711538</td>\n",
       "    </tr>\n",
       "    <tr>\n",
       "      <th>6</th>\n",
       "      <td>WED</td>\n",
       "      <td>20.115385</td>\n",
       "      <td>23.134615</td>\n",
       "      <td>4.730769</td>\n",
       "      <td>21.480769</td>\n",
       "      <td>3.961538</td>\n",
       "    </tr>\n",
       "  </tbody>\n",
       "</table>\n",
       "</div>"
      ],
      "text/plain": [
       "  dayOfWeek       beef    chicken     dairy       goat      rice\n",
       "0       FRI  20.115385  23.019231  4.980769  22.807692  4.211538\n",
       "1       MON  20.846154  23.960784  5.384615  23.980769  4.057692\n",
       "2       SAT  19.574074  22.259259  5.259259  23.370370  3.611111\n",
       "3       SUN  20.423077  22.647059  4.903846  21.923077  4.461538\n",
       "4       THU  20.245283  22.113208  5.641509  22.283019  4.773585\n",
       "5       TUE  20.596154  22.711538  4.442308  21.784314  3.711538\n",
       "6       WED  20.115385  23.134615  4.730769  21.480769  3.961538"
      ]
     },
     "execution_count": 235,
     "metadata": {},
     "output_type": "execute_result"
    }
   ],
   "source": [
    "pivot_df"
   ]
  },
  {
   "cell_type": "code",
   "execution_count": null,
   "id": "c40f74b5",
   "metadata": {},
   "outputs": [],
   "source": []
  },
  {
   "cell_type": "code",
   "execution_count": null,
   "id": "99884119",
   "metadata": {},
   "outputs": [],
   "source": []
  }
 ],
 "metadata": {
  "kernelspec": {
   "display_name": "Python 3 (ipykernel)",
   "language": "python",
   "name": "python3"
  },
  "language_info": {
   "codemirror_mode": {
    "name": "ipython",
    "version": 3
   },
   "file_extension": ".py",
   "mimetype": "text/x-python",
   "name": "python",
   "nbconvert_exporter": "python",
   "pygments_lexer": "ipython3",
   "version": "3.9.13"
  }
 },
 "nbformat": 4,
 "nbformat_minor": 5
}
